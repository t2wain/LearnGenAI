{
 "cells": [
  {
   "cell_type": "markdown",
   "id": "8f2c11e3",
   "metadata": {},
   "source": [
    "### Import"
   ]
  },
  {
   "cell_type": "code",
   "execution_count": null,
   "id": "1d4d6c12",
   "metadata": {},
   "outputs": [],
   "source": [
    "import os\n",
    "from langchain_community.document_loaders import PyPDFLoader\n",
    "from langchain.text_splitter import RecursiveCharacterTextSplitter\n",
    "from langchain_core.embeddings import DeterministicFakeEmbedding"
   ]
  },
  {
   "cell_type": "markdown",
   "id": "b3e241e8",
   "metadata": {},
   "source": [
    "### Environment"
   ]
  },
  {
   "cell_type": "code",
   "execution_count": null,
   "id": "a00426d5",
   "metadata": {},
   "outputs": [],
   "source": [
    "from dotenv import load_dotenv\n",
    "load_dotenv(\"../.env\")\n",
    "\n",
    "path = os.environ.get(\"DOC_PATH\")"
   ]
  },
  {
   "cell_type": "markdown",
   "id": "65c88e4f",
   "metadata": {},
   "source": [
    "### Load PDF Document"
   ]
  },
  {
   "cell_type": "code",
   "execution_count": null,
   "id": "0b17d3f7",
   "metadata": {},
   "outputs": [],
   "source": [
    "file_path = os.path.join(path, \"dotnet-communitytoolkit-mvvm.pdf\")"
   ]
  },
  {
   "cell_type": "code",
   "execution_count": null,
   "id": "55dced1d",
   "metadata": {},
   "outputs": [],
   "source": [
    "file_path = os.path.join(path, \"dotnet-architecture-microservices.pdf\")"
   ]
  },
  {
   "cell_type": "code",
   "execution_count": null,
   "id": "08451c8a",
   "metadata": {},
   "outputs": [],
   "source": [
    "loader = PyPDFLoader(\n",
    "        file_path = file_path,\n",
    "        # headers = None\n",
    "        # password = None,\n",
    "        mode = \"single\",\n",
    "        pages_delimiter = \"\\n\\f\",\n",
    "        # extract_images = True,\n",
    "        # images_parser = RapidOCRBlobParser(),\n",
    "    )"
   ]
  },
  {
   "cell_type": "code",
   "execution_count": null,
   "id": "5370b97f",
   "metadata": {},
   "outputs": [],
   "source": [
    "docs = []\n",
    "docs_lazy = loader.lazy_load()\n",
    "\n",
    "for doc in docs_lazy:\n",
    "    docs.append(doc)\n",
    "print(docs[0].page_content[:100])\n",
    "print(docs[0].metadata)"
   ]
  },
  {
   "cell_type": "markdown",
   "id": "9fcaab98",
   "metadata": {},
   "source": [
    "### Split Document"
   ]
  },
  {
   "cell_type": "code",
   "execution_count": null,
   "id": "f03a1ec9",
   "metadata": {},
   "outputs": [],
   "source": [
    "text_splitter = RecursiveCharacterTextSplitter(\n",
    "    chunk_size=1000, # Adjust chunk size as needed\n",
    "    chunk_overlap=200 # Optional overlap for context preservation\n",
    ")"
   ]
  },
  {
   "cell_type": "code",
   "execution_count": null,
   "id": "de51ac57",
   "metadata": {},
   "outputs": [],
   "source": [
    "texts = text_splitter.split_documents(docs)\n",
    "print(type(texts))\n",
    "print(texts[0].__class__)"
   ]
  },
  {
   "cell_type": "code",
   "execution_count": null,
   "id": "7a72df0e",
   "metadata": {},
   "outputs": [],
   "source": [
    "print(len(texts))\n",
    "print(texts[1].page_content[:100])\n",
    "print(texts[1].metadata)"
   ]
  },
  {
   "cell_type": "markdown",
   "id": "a364cf2f",
   "metadata": {},
   "source": [
    "### Embedding"
   ]
  },
  {
   "cell_type": "code",
   "execution_count": null,
   "id": "901f11a9",
   "metadata": {},
   "outputs": [],
   "source": [
    "# embedding model\n",
    "embed = DeterministicFakeEmbedding(size=100)"
   ]
  },
  {
   "cell_type": "code",
   "execution_count": null,
   "id": "77eab94c",
   "metadata": {},
   "outputs": [],
   "source": [
    "vectors = embed.embed_documents([doc.page_content for doc in texts])"
   ]
  },
  {
   "cell_type": "code",
   "execution_count": null,
   "id": "ed85064c",
   "metadata": {},
   "outputs": [],
   "source": [
    "print(len(vectors))\n",
    "# The first 3 coordinates for the first vector\n",
    "print(len(vectors[0]))\n",
    "print(vectors[0][:3])"
   ]
  }
 ],
 "metadata": {
  "kernelspec": {
   "display_name": "py31209",
   "language": "python",
   "name": "python3"
  },
  "language_info": {
   "codemirror_mode": {
    "name": "ipython",
    "version": 3
   },
   "file_extension": ".py",
   "mimetype": "text/x-python",
   "name": "python",
   "nbconvert_exporter": "python",
   "pygments_lexer": "ipython3",
   "version": "3.13.2"
  }
 },
 "nbformat": 4,
 "nbformat_minor": 5
}
