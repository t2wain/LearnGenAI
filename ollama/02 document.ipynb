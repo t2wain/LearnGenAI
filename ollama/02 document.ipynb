{
 "cells": [
  {
   "cell_type": "markdown",
   "id": "5f01324b",
   "metadata": {},
   "source": [
    "### Import"
   ]
  },
  {
   "cell_type": "code",
   "execution_count": null,
   "id": "e3847f3e",
   "metadata": {},
   "outputs": [],
   "source": [
    "import os\n",
    "import sys\n",
    "import json\n",
    "from pathlib import Path\n",
    "from langchain.prompts.prompt import PromptTemplate\n",
    "from langchain.prompts.few_shot import FewShotPromptTemplate\n",
    "\n",
    "from dotenv import load_dotenv\n",
    "load_dotenv(\"../.env\")\n",
    "code_path = os.environ.get(\"CODE_PATH\")\n",
    "doc_path = os.environ.get(\"DOC_PATH\")\n",
    "sys.path.append(code_path)\n",
    "\n",
    "from load_doc import load_text\n",
    "from model import get_ollama_chat"
   ]
  },
  {
   "cell_type": "markdown",
   "id": "2ca7bc2b",
   "metadata": {},
   "source": [
    "### Example"
   ]
  },
  {
   "cell_type": "code",
   "execution_count": null,
   "id": "630ce6ec",
   "metadata": {},
   "outputs": [],
   "source": [
    "def get_last_lines(text: str, row: int, col: int) -> str:\n",
    "    lines = text.splitlines()\n",
    "    lines = lines if len(lines) <= row else lines[-row:]\n",
    "    max_col = max(len(line) for line in lines) - col\n",
    "    lines = [line[max_col:] for line in lines]\n",
    "    return \"\\n\".join(lines)"
   ]
  },
  {
   "cell_type": "code",
   "execution_count": null,
   "id": "ae6a1e7a",
   "metadata": {},
   "outputs": [],
   "source": [
    "file_path = os.path.join(doc_path, \"TEST\", \"TEST.json\")\n",
    "with open(file_path, 'r') as file:\n",
    "    test_config = json.load(file)\n",
    "\n",
    "# print(test_config)"
   ]
  },
  {
   "cell_type": "code",
   "execution_count": null,
   "id": "97c52697",
   "metadata": {},
   "outputs": [],
   "source": [
    "file_path = os.path.join(doc_path, \"TXT\", test_config[\"example_doc\"])\n",
    "# print(file_path)"
   ]
  },
  {
   "cell_type": "code",
   "execution_count": null,
   "id": "f38a0ab3",
   "metadata": {},
   "outputs": [],
   "source": [
    "example_doc = load_text(str(file_path))\n",
    "# print(example_doc.page_content)"
   ]
  },
  {
   "cell_type": "code",
   "execution_count": null,
   "id": "95c1f9cb",
   "metadata": {},
   "outputs": [],
   "source": [
    "# print(get_last_lines(example_doc.page_content, 20))\n",
    "example_resp = test_config[\"response\"]\n",
    "examples = [{\n",
    "    \"content\": get_last_lines(example_doc.page_content, 20, 100),\n",
    "    \"response\": (\n",
    "        f\"DOCUMENT TITLE: {example_resp[\"title\"]}\\n\"\n",
    "        f\"JOB NO.: {example_resp[\"project_no\"]}\\n\"\n",
    "        f\"DOCUMENT NO.: {example_resp[\"doc_no\"]}\\n\"\n",
    "        f\"REV: {example_resp[\"revision\"]}\"\n",
    "    )\n",
    "}]"
   ]
  },
  {
   "cell_type": "code",
   "execution_count": null,
   "id": "0cfe3c28",
   "metadata": {},
   "outputs": [],
   "source": [
    "example_prompt = PromptTemplate(\n",
    "    input_variables=[\"content\", \"response\"],\n",
    "    template=\"Example document:\\n\\n--CONTENT--\\n{content}\\n--CONTENT--\\n\\nExample document information:\\n\\n{response}\"\n",
    ")\n",
    "\n",
    "prompt_val = example_prompt.invoke(examples[0])\n",
    "print(prompt_val.text)"
   ]
  },
  {
   "cell_type": "markdown",
   "id": "74b3ad2e",
   "metadata": {},
   "source": [
    "### Prompt"
   ]
  },
  {
   "cell_type": "code",
   "execution_count": null,
   "id": "bed881d0",
   "metadata": {},
   "outputs": [],
   "source": [
    "instruction = (\n",
    "    \"\"\"---INSTRUCTION--- \\nExtract document title, job no., document no. and rev information. \n",
    "Document title may span multiple lines.\\n\n",
    "Follow the examples below to identify where such information in the document are embedded.\\n\n",
    "Provide a response with the extracted information in the format as shown in the examples.\"\"\"\n",
    ")\n",
    "\n",
    "# has input variables \"context\" and \"keywords\"\n",
    "prompt_template = \"---CONTEXT---\\n{context}\"\n",
    "\n",
    "prompt = FewShotPromptTemplate(\n",
    "    prefix=instruction, # system instruction\n",
    "    \n",
    "    # iterate through examples to be included in prompt\n",
    "    # insert examples in between \"prefix\" and \"suffix\"\n",
    "    examples=examples,\n",
    "    example_prompt=example_prompt,\n",
    "\n",
    "    suffix=prompt_template, # user's request\n",
    "    input_variables=[\"context\"],\n",
    ")"
   ]
  },
  {
   "cell_type": "markdown",
   "id": "34fd31d8",
   "metadata": {},
   "source": [
    "### LLM"
   ]
  },
  {
   "cell_type": "code",
   "execution_count": null,
   "id": "482231ef",
   "metadata": {},
   "outputs": [],
   "source": [
    "file_names = test_config[\"docs\"]"
   ]
  },
  {
   "cell_type": "code",
   "execution_count": null,
   "id": "fa425218",
   "metadata": {},
   "outputs": [],
   "source": [
    "llm = get_ollama_chat()"
   ]
  },
  {
   "cell_type": "code",
   "execution_count": null,
   "id": "9bb5e7c9",
   "metadata": {},
   "outputs": [],
   "source": [
    "chain = prompt | llm"
   ]
  },
  {
   "cell_type": "markdown",
   "id": "532a4de5",
   "metadata": {},
   "source": [
    "### Extract"
   ]
  },
  {
   "cell_type": "code",
   "execution_count": null,
   "id": "e907ba99",
   "metadata": {},
   "outputs": [],
   "source": [
    "file_name = file_names[4]\n",
    "file_path = os.path.join(doc_path, \"TXT\", file_name)\n",
    "doc = load_text(str(file_path))\n",
    "context = get_last_lines(doc.page_content, 20, 150)\n",
    "print(context)"
   ]
  },
  {
   "cell_type": "code",
   "execution_count": null,
   "id": "9cbb64be",
   "metadata": {},
   "outputs": [],
   "source": [
    "response = chain.invoke({\"context\": context}, \n",
    "    config={\"configurable\": {\"temperature\": 0.1}})"
   ]
  },
  {
   "cell_type": "code",
   "execution_count": null,
   "id": "8749a42a",
   "metadata": {},
   "outputs": [],
   "source": [
    "print(file_name, \"\\n\")\n",
    "print(response.content)"
   ]
  }
 ],
 "metadata": {
  "kernelspec": {
   "display_name": "py31209",
   "language": "python",
   "name": "python3"
  },
  "language_info": {
   "codemirror_mode": {
    "name": "ipython",
    "version": 3
   },
   "file_extension": ".py",
   "mimetype": "text/x-python",
   "name": "python",
   "nbconvert_exporter": "python",
   "pygments_lexer": "ipython3",
   "version": "3.13.2"
  }
 },
 "nbformat": 4,
 "nbformat_minor": 5
}
