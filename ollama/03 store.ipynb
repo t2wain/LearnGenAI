{
 "cells": [
  {
   "cell_type": "markdown",
   "id": "318f673f",
   "metadata": {},
   "source": [
    "### Import"
   ]
  },
  {
   "cell_type": "code",
   "execution_count": null,
   "id": "5fd8e996",
   "metadata": {},
   "outputs": [],
   "source": [
    "import os\n",
    "import sys\n",
    "from dotenv import load_dotenv"
   ]
  },
  {
   "cell_type": "code",
   "execution_count": null,
   "id": "58a343ab",
   "metadata": {},
   "outputs": [],
   "source": [
    "load_dotenv(\"../.env\")\n",
    "code_path = os.environ.get(\"CODE_PATH\")\n",
    "doc_path = os.environ.get(\"DOC_PATH\")\n",
    "sys.path.append(code_path)"
   ]
  },
  {
   "cell_type": "code",
   "execution_count": null,
   "id": "d97c2299",
   "metadata": {},
   "outputs": [],
   "source": [
    "import load_doc\n",
    "from langchain_ollama import OllamaEmbeddings\n",
    "from langchain_core.vectorstores import InMemoryVectorStore"
   ]
  },
  {
   "cell_type": "markdown",
   "id": "09b93d51",
   "metadata": {},
   "source": [
    "### Load Doc"
   ]
  },
  {
   "cell_type": "code",
   "execution_count": null,
   "id": "e886cd76",
   "metadata": {},
   "outputs": [],
   "source": [
    "file_path = os.path.join(doc_path, \"dotnet-communitytoolkit-mvvm.pdf\")"
   ]
  },
  {
   "cell_type": "code",
   "execution_count": null,
   "id": "7f171ffb",
   "metadata": {},
   "outputs": [],
   "source": [
    "doc_chunks = load_doc.load_split_pdf(file_path)"
   ]
  },
  {
   "cell_type": "markdown",
   "id": "8cd25324",
   "metadata": {},
   "source": [
    "### Vector Store"
   ]
  },
  {
   "cell_type": "code",
   "execution_count": null,
   "id": "44876bdb",
   "metadata": {},
   "outputs": [],
   "source": [
    "embed = OllamaEmbeddings(\n",
    "    model=\"llama3.1:latest\",\n",
    ")"
   ]
  },
  {
   "cell_type": "code",
   "execution_count": null,
   "id": "dfdbef5b",
   "metadata": {},
   "outputs": [],
   "source": [
    "vectorstore = InMemoryVectorStore.from_texts(\n",
    "    [doc.page_content for doc in doc_chunks],\n",
    "    embedding=embed,\n",
    ")"
   ]
  },
  {
   "cell_type": "markdown",
   "id": "a43bb2dd",
   "metadata": {},
   "source": [
    "### Retrieve Doc"
   ]
  },
  {
   "cell_type": "code",
   "execution_count": null,
   "id": "a793bf8a",
   "metadata": {},
   "outputs": [],
   "source": [
    "# Use the vectorstore as a retriever\n",
    "retriever = vectorstore.as_retriever()\n",
    "\n",
    "# Retrieve the most similar text\n",
    "retrieved_documents = retriever.invoke(\"How ObservableRecipient work?\")\n",
    "print(len(retrieved_documents))\n",
    "# show the retrieved document's content\n",
    "for doc in retrieved_documents:\n",
    "    print(doc.page_content)"
   ]
  }
 ],
 "metadata": {
  "kernelspec": {
   "display_name": "py31209",
   "language": "python",
   "name": "python3"
  },
  "language_info": {
   "codemirror_mode": {
    "name": "ipython",
    "version": 3
   },
   "file_extension": ".py",
   "mimetype": "text/x-python",
   "name": "python",
   "nbconvert_exporter": "python",
   "pygments_lexer": "ipython3",
   "version": "3.13.2"
  }
 },
 "nbformat": 4,
 "nbformat_minor": 5
}
