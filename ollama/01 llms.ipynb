{
 "cells": [
  {
   "cell_type": "code",
   "execution_count": 1,
   "id": "379c4595",
   "metadata": {},
   "outputs": [],
   "source": [
    "from langchain_ollama import OllamaLLM, ChatOllama"
   ]
  },
  {
   "cell_type": "code",
   "execution_count": null,
   "id": "0ff27dc4",
   "metadata": {},
   "outputs": [],
   "source": [
    "llm = ChatOllama(model=\"gemma3:4b\", temperature=0)"
   ]
  },
  {
   "cell_type": "code",
   "execution_count": null,
   "id": "afefca40",
   "metadata": {},
   "outputs": [],
   "source": [
    "# dir(llm)\n",
    "# llm.__dict__"
   ]
  },
  {
   "cell_type": "code",
   "execution_count": 3,
   "id": "3ac79e44",
   "metadata": {},
   "outputs": [],
   "source": [
    "chain = llm"
   ]
  },
  {
   "cell_type": "code",
   "execution_count": null,
   "id": "d073599c",
   "metadata": {},
   "outputs": [],
   "source": [
    "prompt = \"Sing a ballad of LangChain.\"\n",
    "\n",
    "for chunk in chain.stream(prompt):\n",
    "    print(chunk.content, end=\"\")"
   ]
  }
 ],
 "metadata": {
  "kernelspec": {
   "display_name": "py31209",
   "language": "python",
   "name": "python3"
  },
  "language_info": {
   "codemirror_mode": {
    "name": "ipython",
    "version": 3
   },
   "file_extension": ".py",
   "mimetype": "text/x-python",
   "name": "python",
   "nbconvert_exporter": "python",
   "pygments_lexer": "ipython3",
   "version": "3.13.2"
  }
 },
 "nbformat": 4,
 "nbformat_minor": 5
}
