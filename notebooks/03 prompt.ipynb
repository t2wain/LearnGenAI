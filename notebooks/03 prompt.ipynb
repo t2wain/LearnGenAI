{
 "cells": [
  {
   "cell_type": "code",
   "execution_count": null,
   "metadata": {},
   "outputs": [],
   "source": [
    "from langchain.prompts.prompt import PromptTemplate\n",
    "from langchain.prompts.few_shot import FewShotPromptTemplate\n",
    "from langchain.prompts import (\n",
    "    ChatPromptTemplate,\n",
    "    HumanMessagePromptTemplate,\n",
    "    SystemMessagePromptTemplate,\n",
    "    AIMessagePromptTemplate,\n",
    "    MessagesPlaceholder,\n",
    ")\n",
    "from langchain_core.messages import (\n",
    "    BaseMessage,\n",
    "    SystemMessage,\n",
    "    HumanMessage,\n",
    "    AIMessage,\n",
    ")\n",
    "\n",
    "# SystemMessage -> BaseMessage -> Serializable\n",
    "# HumanMessagePromptTemplate -> BaseMessagePromptTemplate -> Serializable"
   ]
  },
  {
   "cell_type": "markdown",
   "metadata": {},
   "source": [
    "### Prompt for Completion Model"
   ]
  },
  {
   "cell_type": "code",
   "execution_count": 21,
   "metadata": {},
   "outputs": [],
   "source": [
    "template = \"\"\"Describe {plant}.\n",
    "First, think whether {plant} exist.\n",
    "If they {plant} don't exist, answer \"I don't have enough information\n",
    "about {plant}\".\n",
    "Otherwise, give their title, a short summary and then talk about\n",
    "origin and cultivation.\n",
    "After that, describe their physical characteristics.\n",
    "\"\"\""
   ]
  },
  {
   "cell_type": "code",
   "execution_count": null,
   "metadata": {},
   "outputs": [],
   "source": [
    "# PromptTemplate -> StringPromptTemplate -> BasePromptTemplate -> RunnableSerializable\n",
    "# with required \"plant\" variable\n",
    "prompt_template = PromptTemplate(\n",
    "    input_variables=[\"plant\"],\n",
    "    template=template,\n",
    ")"
   ]
  },
  {
   "cell_type": "code",
   "execution_count": 22,
   "metadata": {},
   "outputs": [],
   "source": [
    "# populate \"plant\" variable\n",
    "prompt_template = PromptTemplate(\n",
    "    partial_variables={\"plant\":\"black cucumbers\"},\n",
    "    template=template,\n",
    ")"
   ]
  },
  {
   "cell_type": "code",
   "execution_count": 23,
   "metadata": {},
   "outputs": [],
   "source": [
    "prompt_template = PromptTemplate.from_template(template)"
   ]
  },
  {
   "cell_type": "code",
   "execution_count": null,
   "metadata": {},
   "outputs": [],
   "source": [
    "prompt_template.pretty_print()"
   ]
  },
  {
   "cell_type": "code",
   "execution_count": null,
   "metadata": {},
   "outputs": [],
   "source": [
    "prompt = prompt_template.format(plant=\"black cucumbers\")\n",
    "print(prompt)"
   ]
  },
  {
   "cell_type": "code",
   "execution_count": null,
   "metadata": {},
   "outputs": [],
   "source": [
    "prompt_value = prompt_template.format_prompt(plant=\"black cucumbers\")\n",
    "for message in prompt_value.to_messages():\n",
    "    print(message.type, \":\", message.content)"
   ]
  },
  {
   "cell_type": "code",
   "execution_count": null,
   "metadata": {},
   "outputs": [],
   "source": [
    "prompt_value = prompt_template.invoke({\"plant\": \"black cucumbers\"})\n",
    "print(prompt_value.to_string())"
   ]
  },
  {
   "cell_type": "markdown",
   "metadata": {},
   "source": [
    "### Prompt for Chat Model"
   ]
  },
  {
   "cell_type": "code",
   "execution_count": null,
   "metadata": {},
   "outputs": [],
   "source": [
    "# messages: Sequence[MessageLikeRepresentation]\n",
    "# MessageLike = Union[BaseMessagePromptTemplate, BaseMessage, BaseChatPromptTemplate]\n",
    "# MessageLikeRepresentation = Union[\n",
    "#     MessageLike,\n",
    "#     tuple[\n",
    "#         Union[str, type],\n",
    "#         Union[str, list[dict], list[object]],\n",
    "#     ],\n",
    "#     str,\n",
    "#     dict,\n",
    "# ]\n",
    "chat_template = ChatPromptTemplate.from_messages(\n",
    "    [\n",
    "        SystemMessage(\n",
    "            content=(\n",
    "                \"\"\"You are a helpful assistant that helps extract entities from \n",
    "product descriptions. You always respond in a json format.\"\"\")\n",
    "        ),\n",
    "        HumanMessagePromptTemplate.from_template(\n",
    "            \"\"\"Extract the following entities:\\n{entities}\\n \n",
    "from the item's description:\\n{description}.\"\"\"),\n",
    "    ]\n",
    ")"
   ]
  },
  {
   "cell_type": "code",
   "execution_count": null,
   "metadata": {},
   "outputs": [],
   "source": [
    "messages = chat_template.format_messages(entities=\"price, RAM\", description=\"Price: $1,000 and RAM: 32GB\")\n",
    "for message in messages:\n",
    "    print(message.type, message.content)"
   ]
  },
  {
   "cell_type": "code",
   "execution_count": null,
   "metadata": {},
   "outputs": [],
   "source": [
    "prompt_value = chat_template.format_prompt(entities=\"price, RAM\", description=\"Price: $1,000 and RAM: 32GB\")\n",
    "messages = prompt_value.to_messages()\n",
    "print(prompt_value.to_string())"
   ]
  },
  {
   "cell_type": "code",
   "execution_count": null,
   "metadata": {},
   "outputs": [],
   "source": [
    "prompt_value =  chat_template.invoke({\"entities\":\"price, RAM\", \"description\":\"Price: $1,000 and RAM: 32GB\"})\n",
    "print(prompt_value.to_string())"
   ]
  },
  {
   "cell_type": "code",
   "execution_count": 40,
   "metadata": {},
   "outputs": [
    {
     "name": "stdout",
     "output_type": "stream",
     "text": [
      "system : You are a helpful AI bot. Your name is Bob.\n",
      "human : Hello, how are you doing?\n",
      "ai : I'm doing well, thanks!\n",
      "human : What is your name?\n"
     ]
    }
   ],
   "source": [
    "template = ChatPromptTemplate([\n",
    "    (\"system\", \"You are a helpful AI bot. Your name is {name}.\"),\n",
    "    (\"human\", \"Hello, how are you doing?\"),\n",
    "    (\"ai\", \"I'm doing well, thanks!\"),\n",
    "    (\"human\", \"{user_input}\"),\n",
    "])\n",
    "\n",
    "prompt_value = template.invoke(\n",
    "    {\n",
    "        \"name\": \"Bob\",\n",
    "        \"user_input\": \"What is your name?\"\n",
    "    }\n",
    ")\n",
    "\n",
    "messages = prompt_value.to_messages()\n",
    "for message in messages:\n",
    "    print(message.type, \":\", message.content)"
   ]
  },
  {
   "cell_type": "code",
   "execution_count": null,
   "metadata": {},
   "outputs": [],
   "source": [
    "template = ChatPromptTemplate([\n",
    "    (\"system\", \"You are a helpful AI bot.\"),\n",
    "    # Means the template will receive an optional list of messages under\n",
    "    # the \"conversation\" key\n",
    "    (\"placeholder\", \"{conversation}\")\n",
    "    # Equivalently:\n",
    "    # MessagesPlaceholder(variable_name=\"conversation\", optional=True)\n",
    "])\n",
    "\n",
    "prompt_value = template.invoke({})\n",
    "\n",
    "messages = prompt_value.to_messages()\n",
    "for message in messages:\n",
    "    print(message.type, \":\", message.content)"
   ]
  },
  {
   "cell_type": "code",
   "execution_count": null,
   "metadata": {},
   "outputs": [],
   "source": [
    "prompt_value = template.invoke(\n",
    "    {\n",
    "        \"conversation\": [\n",
    "            (\"human\", \"Hi!\"),\n",
    "            (\"ai\", \"How can I assist you today?\"),\n",
    "            (\"human\", \"Can you make me an ice cream sundae?\"),\n",
    "            (\"ai\", \"No.\")\n",
    "        ]\n",
    "    }\n",
    ")\n",
    "\n",
    "messages = prompt_value.to_messages()\n",
    "for message in messages:\n",
    "    print(message.type, \":\", message.content)"
   ]
  },
  {
   "cell_type": "markdown",
   "metadata": {},
   "source": [
    "### Few-Shot Prompt"
   ]
  },
  {
   "cell_type": "code",
   "execution_count": null,
   "metadata": {},
   "outputs": [],
   "source": [
    "\n",
    "examples = [\n",
    "    {\n",
    "        \"keywords\": \"\"\"best fan for hot summer days, powerful, cozy,\n",
    "wood tone, enjoy cold drink\"\"\",\n",
    "        \"response\": (\n",
    "            \"Slogan: Breeze 4000: Feel the Difference.\\n\"\n",
    "            \"Tagline: Design, Comfort, Performance – The Ultimate Summer Upgrade.\\n\"\n",
    "            \"Short Description: Beat the heat in style with the Breeze 4000. \"\n",
    "            \"Its sleek wood-tone design and whisper-quiet operation create \"\n",
    "            \"the perfect oasis for enjoying a cool drink on those hot summer days.\\n\"\n",
    "            \"Call to action: 1/ Experience the Breeze 4000 difference today. \"\n",
    "            \"(Emphasizes the unique qualities)\\n\"\n",
    "            \"2/ Upgrade your summer. Shop the Breeze 4000 now. (Creates a sense of urgency)\\n\"\n",
    "            \"3/ Find your perfect Breeze 4000 style. (Focus on design and personalization)\"\n",
    "        )\n",
    "    },\n",
    "]\n",
    "\n",
    "example_prompt = PromptTemplate(\n",
    "    input_variables=[\"keywords\", \"response\"],\n",
    "    template=\"Example keywords:\\n{keywords}\\nExample response:\\n{response}\"\n",
    ")\n"
   ]
  },
  {
   "cell_type": "code",
   "execution_count": null,
   "metadata": {},
   "outputs": [],
   "source": [
    "instruction = (\n",
    "    \"\"\"---INSTRUCTION--- \\nYou are an intelligent assistant that helps\n",
    "marketers write great copy for campaigns on our website, which sells\n",
    "premium ceiling fans to design-conscious customers. Please create\n",
    "campaign copy (a slogan, a tagline, a short description, and three\n",
    "calls-to-action) based on keywords. Use the information from your\n",
    "context to choose the right products to advertise. Follow the examples\n",
    "below to ensure that you follow company branding standards.\\n\"\"\"\n",
    ")\n",
    "\n",
    "prompt_template = \"---CONTEXT---\\n{context}\\n---KEYWORDS FOR CREATING COPY---\\n{keywords}\\n\"\n",
    "\n",
    "prompt = FewShotPromptTemplate(\n",
    "    prefix=instruction,\n",
    "    \n",
    "    # iterate through examples\n",
    "    examples=examples,\n",
    "    example_prompt=example_prompt,\n",
    "\n",
    "    suffix=prompt_template,\n",
    "    input_variables=[\"context\", \"keywords\"],\n",
    ")"
   ]
  },
  {
   "cell_type": "code",
   "execution_count": null,
   "metadata": {},
   "outputs": [],
   "source": [
    "\n",
    "context = [\n",
    "    {\n",
    "        \"name\": \"Whirlwind BreezeMaster 3000\",\n",
    "        \"performanceRating\": \"high\",\n",
    "        \"outdoor\": True,\n",
    "        \"powerSource\": \"electric\",\n",
    "        \"price\": 249.99\n",
    "    }\n",
    "]\n",
    "\n",
    "keywords = \"best fan for dry heat, powerful, outdoor, porch, affordable\"\n",
    "\n",
    "prompt_value = prompt.invoke({\"context\": context, \"keywords\": keywords})\n",
    "\n",
    "messages = prompt_value.to_messages()\n",
    "print(\"Message count\", \":\", len(messages), \"\\n\")\n",
    "for message in messages:\n",
    "    print(message.type, \":\", message.content)"
   ]
  }
 ],
 "metadata": {
  "kernelspec": {
   "display_name": "py31209",
   "language": "python",
   "name": "python3"
  },
  "language_info": {
   "codemirror_mode": {
    "name": "ipython",
    "version": 3
   },
   "file_extension": ".py",
   "mimetype": "text/x-python",
   "name": "python",
   "nbconvert_exporter": "python",
   "pygments_lexer": "ipython3",
   "version": "3.13.2"
  }
 },
 "nbformat": 4,
 "nbformat_minor": 2
}
