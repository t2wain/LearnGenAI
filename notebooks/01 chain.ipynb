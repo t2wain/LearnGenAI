{
 "cells": [
  {
   "cell_type": "markdown",
   "metadata": {},
   "source": [
    "### Learn RunnableSequence"
   ]
  },
  {
   "cell_type": "code",
   "execution_count": 1,
   "metadata": {},
   "outputs": [],
   "source": [
    "from langchain_core.runnables import (\n",
    "    RunnableLambda, \n",
    "    RunnablePassthrough, \n",
    "    RunnableParallel\n",
    ")\n",
    "from operator import itemgetter"
   ]
  },
  {
   "cell_type": "code",
   "execution_count": 2,
   "metadata": {},
   "outputs": [],
   "source": [
    "def increment_x_by_one(x: int) -> int:\n",
    "    return x+1\n",
    "\n",
    "def fake_llm(x: int)->str:\n",
    "    return f\"Result = {x}\"\n"
   ]
  },
  {
   "cell_type": "code",
   "execution_count": 3,
   "metadata": {},
   "outputs": [
    {
     "name": "stdout",
     "output_type": "stream",
     "text": [
      "Result = 2\n"
     ]
    }
   ],
   "source": [
    "chain1 = increment_x_by_one | RunnableLambda(fake_llm)\n",
    "result = chain1.invoke(1)\n",
    "print(result)"
   ]
  },
  {
   "cell_type": "code",
   "execution_count": 4,
   "metadata": {},
   "outputs": [
    {
     "name": "stdout",
     "output_type": "stream",
     "text": [
      "Result = 2\n"
     ]
    }
   ],
   "source": [
    "chain1 = RunnableLambda(increment_x_by_one) | fake_llm\n",
    "result = chain1.invoke(1)\n",
    "print(result)"
   ]
  },
  {
   "cell_type": "code",
   "execution_count": 5,
   "metadata": {},
   "outputs": [
    {
     "name": "stdout",
     "output_type": "stream",
     "text": [
      "Result = 2\n"
     ]
    }
   ],
   "source": [
    "result = await chain1.ainvoke(1)\n",
    "print(result)"
   ]
  },
  {
   "cell_type": "code",
   "execution_count": 6,
   "metadata": {},
   "outputs": [
    {
     "name": "stdout",
     "output_type": "stream",
     "text": [
      "['Result = 2', 'Result = 3', 'Result = 4']\n"
     ]
    }
   ],
   "source": [
    "result = chain1.batch([1, 2, 3])\n",
    "print(result)"
   ]
  },
  {
   "cell_type": "code",
   "execution_count": 7,
   "metadata": {},
   "outputs": [
    {
     "name": "stdout",
     "output_type": "stream",
     "text": [
      "['Result = 2', 'Result = 3', 'Result = 4']\n"
     ]
    }
   ],
   "source": [
    "result = await chain1.abatch([1, 2, 3])\n",
    "print(result)"
   ]
  },
  {
   "cell_type": "markdown",
   "metadata": {},
   "source": [
    "### Learn ParallelSequence"
   ]
  },
  {
   "cell_type": "code",
   "execution_count": 8,
   "metadata": {},
   "outputs": [],
   "source": [
    "def add_one(x: int) -> int:\n",
    "    return x + 1\n",
    "\n",
    "def mul_two(x: int) -> int:\n",
    "    return x * 2\n",
    "\n",
    "def mul_three(x: int) -> int:\n",
    "    return x * 3\n",
    "\n",
    "chain2 = RunnableLambda(add_one) | {  # this dict is coerced to a RunnableParallel\n",
    "    \"mul_two\": mul_two,\n",
    "    \"mul_three\": mul_three,\n",
    "}"
   ]
  },
  {
   "cell_type": "code",
   "execution_count": 9,
   "metadata": {},
   "outputs": [
    {
     "name": "stdout",
     "output_type": "stream",
     "text": [
      "{'mul_two': 4, 'mul_three': 6}\n"
     ]
    }
   ],
   "source": [
    "result = chain2.invoke(1)\n",
    "print(result)"
   ]
  },
  {
   "cell_type": "markdown",
   "metadata": {},
   "source": [
    "### Learn RunnablePassThrough and itemgetter"
   ]
  },
  {
   "cell_type": "code",
   "execution_count": 10,
   "metadata": {},
   "outputs": [
    {
     "name": "stdout",
     "output_type": "stream",
     "text": [
      "Result = 2\n"
     ]
    }
   ],
   "source": [
    "chain1 = itemgetter(\"x\") | RunnableLambda(increment_x_by_one) | fake_llm\n",
    "result = chain1.invoke({\"x\": 1})\n",
    "print(result)"
   ]
  },
  {
   "cell_type": "code",
   "execution_count": 11,
   "metadata": {},
   "outputs": [
    {
     "data": {
      "text/plain": [
       "{'origin': 1, 'output': 2}"
      ]
     },
     "execution_count": 11,
     "metadata": {},
     "output_type": "execute_result"
    }
   ],
   "source": [
    "chain2 = RunnableParallel(\n",
    "    origin=RunnablePassthrough(),\n",
    "    output=increment_x_by_one\n",
    ")\n",
    "\n",
    "chain2.invoke(1)"
   ]
  }
 ],
 "metadata": {
  "kernelspec": {
   "display_name": "py31209",
   "language": "python",
   "name": "python3"
  },
  "language_info": {
   "codemirror_mode": {
    "name": "ipython",
    "version": 3
   },
   "file_extension": ".py",
   "mimetype": "text/x-python",
   "name": "python",
   "nbconvert_exporter": "python",
   "pygments_lexer": "ipython3",
   "version": "3.13.2"
  }
 },
 "nbformat": 4,
 "nbformat_minor": 2
}
