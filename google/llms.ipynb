{
 "cells": [
  {
   "cell_type": "markdown",
   "id": "b7255bb4",
   "metadata": {},
   "source": [
    "### Import"
   ]
  },
  {
   "cell_type": "code",
   "execution_count": null,
   "id": "5d1f2128",
   "metadata": {},
   "outputs": [],
   "source": [
    "from langchain_google_genai import (\n",
    "    GoogleGenerativeAI, \n",
    "    ChatGoogleGenerativeAI,\n",
    ")\n",
    "from langchain_core.messages import HumanMessage\n",
    "from langchain.prompts import (\n",
    "    ChatPromptTemplate,\n",
    "    HumanMessagePromptTemplate,\n",
    "    SystemMessagePromptTemplate,\n",
    "    AIMessagePromptTemplate,\n",
    "    MessagesPlaceholder,\n",
    ")\n",
    "from langchain_core.messages import (\n",
    "    BaseMessage,\n",
    "    SystemMessage,\n",
    "    HumanMessage,\n",
    "    AIMessage,\n",
    ")\n",
    "from langchain_core.output_parsers import JsonOutputParser, StrOutputParser\n",
    "from langchain.prompts.prompt import PromptTemplate\n",
    "from langchain_core.runnables import ConfigurableField\n"
   ]
  },
  {
   "cell_type": "markdown",
   "id": "1311de75",
   "metadata": {},
   "source": [
    "### Environment"
   ]
  },
  {
   "cell_type": "code",
   "execution_count": null,
   "id": "2c41a070",
   "metadata": {},
   "outputs": [],
   "source": [
    "from dotenv import load_dotenv\n",
    "load_dotenv(\"../.env\")\n"
   ]
  },
  {
   "cell_type": "markdown",
   "id": "44dfe19e",
   "metadata": {},
   "source": [
    "### Models"
   ]
  },
  {
   "cell_type": "code",
   "execution_count": null,
   "id": "98e21495",
   "metadata": {},
   "outputs": [],
   "source": [
    "llm = GoogleGenerativeAI(\n",
    "    model=\"gemini-2.0-flash\",\n",
    "    max_tokens=50\n",
    ")\n",
    "print(llm.__class__)\n",
    "\n",
    "# specify \"max_output_tokens\" as configurable fields\n",
    "llm2 = llm.configurable_fields(\n",
    "    max_output_tokens=ConfigurableField(\n",
    "        id=\"max_output_tokens\",\n",
    "        name=\"LLM Maximum output tokens\",\n",
    "        description=\"Maximum number of tokens\",\n",
    "    )\n",
    ")"
   ]
  },
  {
   "cell_type": "code",
   "execution_count": null,
   "id": "16e72980",
   "metadata": {},
   "outputs": [],
   "source": [
    "chat = ChatGoogleGenerativeAI(\n",
    "    model=\"gemini-2.0-flash\", \n",
    "    max_tokens=50\n",
    ")\n",
    "print(chat.__class__)\n",
    "\n",
    "# specify \"max_output_tokens\" and \"temperature\" \n",
    "# as configurable fields\n",
    "chat2 = chat.configurable_fields(\n",
    "    max_output_tokens=ConfigurableField(\n",
    "        id=\"max_output_tokens\",\n",
    "        name=\"LLM Maximum output tokens\",\n",
    "        description=\"Maximum number of tokens\",\n",
    "    ),\n",
    "    temperature=ConfigurableField(\n",
    "        id=\"temperature\",\n",
    "        name=\"LLM Temperature\",\n",
    "        description=\"The temperature of the LLM\",\n",
    "    )\n",
    ")"
   ]
  },
  {
   "cell_type": "markdown",
   "id": "ce72aef7",
   "metadata": {},
   "source": [
    "### Example - LLM"
   ]
  },
  {
   "cell_type": "code",
   "execution_count": null,
   "id": "ea9a1eae",
   "metadata": {},
   "outputs": [],
   "source": [
    "response = llm2.invoke(\n",
    "        \"What are some of the pros and cons of Python as a programming language?\",\n",
    "        # specify optional configurable field\n",
    "        config={\"configurable\": {\"max_output_tokens\": 500}} \n",
    "    )\n",
    "print(response.__class__)\n",
    "print(response)"
   ]
  },
  {
   "cell_type": "code",
   "execution_count": null,
   "id": "ce309683",
   "metadata": {},
   "outputs": [],
   "source": [
    "prompt_template = PromptTemplate.from_template(\n",
    "    \"\"\"Extract the following entities:\\n{entities}\\n \n",
    "from the item's description:\\n{description}.\\n\n",
    "You always respond in a json format.\"\"\"\n",
    ")\n",
    "\n",
    "chain = prompt_template | llm | JsonOutputParser()\n",
    "print(chain.__class__)"
   ]
  },
  {
   "cell_type": "code",
   "execution_count": null,
   "id": "7b39c5cd",
   "metadata": {},
   "outputs": [],
   "source": [
    "result = chain.invoke({\"entities\":\"price, RAM\", \"description\": \"Price: $1,000 and RAM: 32GB\"})\n",
    "print(result.__class__)\n",
    "print(result)"
   ]
  },
  {
   "cell_type": "markdown",
   "id": "b5ab5f73",
   "metadata": {},
   "source": [
    "### Example - Chat"
   ]
  },
  {
   "cell_type": "code",
   "execution_count": null,
   "id": "c8ed7f02",
   "metadata": {},
   "outputs": [],
   "source": [
    "response = chat2.invoke(\"Sing a ballad of LangChain.\", \n",
    "    # specify optional configurable field\n",
    "    config={\"configurable\": {\"max_output_tokens\": 300}})\n",
    "print(response.__class__)\n",
    "print(response.usage_metadata)\n",
    "print(response.content)"
   ]
  },
  {
   "cell_type": "code",
   "execution_count": null,
   "id": "d0b5470d",
   "metadata": {},
   "outputs": [],
   "source": [
    "for chunk in chat.stream(\"Sing a ballad of LangChain.\"):\n",
    "    print(chunk.content, end=\"\")"
   ]
  },
  {
   "cell_type": "code",
   "execution_count": null,
   "id": "a3ffe428",
   "metadata": {},
   "outputs": [],
   "source": [
    "for chunk in (chat | StrOutputParser()).stream(\"Sing a ballad of LangChain.\"):\n",
    "    print(chunk, end=\"\")"
   ]
  },
  {
   "cell_type": "code",
   "execution_count": null,
   "id": "f9c5287e",
   "metadata": {},
   "outputs": [],
   "source": [
    "response = (chat | StrOutputParser()).invoke(\"Sing a ballad of LangChain.\")\n",
    "print(response.__class__)\n",
    "print(response)"
   ]
  },
  {
   "cell_type": "code",
   "execution_count": null,
   "id": "4deded16",
   "metadata": {},
   "outputs": [],
   "source": [
    "prompt_template = ChatPromptTemplate.from_messages(\n",
    "    [\n",
    "        SystemMessage(\n",
    "            content=(\n",
    "                \"\"\"You are a helpful assistant that helps extract entities from \n",
    "product descriptions. You always respond in a json format.\"\"\")\n",
    "        ),\n",
    "        HumanMessagePromptTemplate.from_template(\n",
    "            \"\"\"Extract the following entities:\\n{entities}\\n \n",
    "from the item's description:\\n{description}.\"\"\"),\n",
    "    ]\n",
    ")\n",
    "\n",
    "chain = prompt_template | chat2 | JsonOutputParser()\n",
    "print(chain.__class__)"
   ]
  },
  {
   "cell_type": "code",
   "execution_count": null,
   "id": "8282f671",
   "metadata": {},
   "outputs": [],
   "source": [
    "result = chain.invoke({\"entities\":\"price, RAM\", \"description\": \"Price: $1,000 and RAM: 32GB\"},\n",
    "    # specify optional configurable field\n",
    "    config={\"configurable\": {\"temperature\": 0.1}})\n",
    "print(result.__class__)\n",
    "print(result)"
   ]
  },
  {
   "cell_type": "markdown",
   "id": "4d57e74e",
   "metadata": {},
   "source": [
    "### Example - Image Analysis"
   ]
  },
  {
   "cell_type": "code",
   "execution_count": null,
   "id": "a4e8f6a5",
   "metadata": {},
   "outputs": [],
   "source": [
    "message = HumanMessage(\n",
    "    content=[\n",
    "        {\n",
    "            \"type\": \"text\",\n",
    "            \"text\": \"What's in this image?\",\n",
    "        },  # You can optionally provide text parts\n",
    "        {\"type\": \"image_url\", \"image_url\": \"https://picsum.photos/seed/picsum/200/300\"},\n",
    "    ]\n",
    ")\n",
    "\n",
    "response = chat.invoke([message])\n",
    "print(response.content)"
   ]
  }
 ],
 "metadata": {
  "kernelspec": {
   "display_name": "py31209",
   "language": "python",
   "name": "python3"
  },
  "language_info": {
   "codemirror_mode": {
    "name": "ipython",
    "version": 3
   },
   "file_extension": ".py",
   "mimetype": "text/x-python",
   "name": "python",
   "nbconvert_exporter": "python",
   "pygments_lexer": "ipython3",
   "version": "3.13.2"
  }
 },
 "nbformat": 4,
 "nbformat_minor": 5
}
