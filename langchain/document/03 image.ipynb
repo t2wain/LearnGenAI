{
 "cells": [
  {
   "cell_type": "markdown",
   "id": "1a0cca3e",
   "metadata": {},
   "source": [
    "### Import"
   ]
  },
  {
   "cell_type": "code",
   "execution_count": null,
   "id": "84935c47",
   "metadata": {},
   "outputs": [],
   "source": [
    "import os\n",
    "import base64\n",
    "import json\n",
    "import sys\n",
    "from pathlib import Path\n",
    "from pdf2image import convert_from_path\n",
    "from PIL import Image\n",
    "from io import BytesIO\n",
    "from langchain.prompts import (\n",
    "    HumanMessagePromptTemplate,\n",
    "    ChatPromptTemplate,\n",
    "    FewShotChatMessagePromptTemplate,\n",
    "    AIMessagePromptTemplate\n",
    ")\n",
    "from langchain_core.messages.content_blocks import Base64ContentBlock\n",
    "from langchain_core.messages.utils import count_tokens_approximately\n",
    "from langchain_core.messages import (\n",
    "    convert_to_openai_image_block, \n",
    "    SystemMessage,\n",
    ")\n",
    "\n",
    "\n",
    "from dotenv import load_dotenv\n",
    "load_dotenv(\"../.env\")\n",
    "doc_path = os.environ.get(\"DOC_PATH\")\n",
    "code_path = os.environ.get(\"CODE_PATH\")\n",
    "sys.path.append(code_path)\n"
   ]
  },
  {
   "cell_type": "markdown",
   "id": "84d8da2e",
   "metadata": {},
   "source": [
    "### Convert to JPEG"
   ]
  },
  {
   "cell_type": "code",
   "execution_count": null,
   "id": "0a9e084e",
   "metadata": {},
   "outputs": [],
   "source": [
    "def convert_pdf_to_jpeg(input_dir: str, output_dir: str) -> None:\n",
    "    input_path = Path(input_dir)\n",
    "    output_path = Path(output_dir)\n",
    "    output_path.mkdir(parents=True, exist_ok=True)\n",
    "\n",
    "    for pdf_file in input_path.glob(\"*.pdf\"):\n",
    "        print(f\"Processing: {pdf_file.name}\")\n",
    "        pages = convert_from_path(str(pdf_file))\n",
    "        for i, page in enumerate(pages):\n",
    "            img_file = output_path / (pdf_file.stem + \".jpg\")\n",
    "            page.save(img_file, 'JPEG')"
   ]
  },
  {
   "cell_type": "code",
   "execution_count": null,
   "id": "a04c2450",
   "metadata": {},
   "outputs": [],
   "source": [
    "input_dir = doc_path\n",
    "output_dir = os.path.join(input_dir, \"IMG\")"
   ]
  },
  {
   "cell_type": "code",
   "execution_count": null,
   "id": "05e9db9f",
   "metadata": {},
   "outputs": [],
   "source": [
    "convert_pdf_to_jpeg(input_dir, output_dir)"
   ]
  },
  {
   "cell_type": "markdown",
   "id": "06e54b41",
   "metadata": {},
   "source": [
    "### Crop Image"
   ]
  },
  {
   "cell_type": "code",
   "execution_count": null,
   "id": "835e93e7",
   "metadata": {},
   "outputs": [],
   "source": [
    "def calculate_crop_box(image: Image, left_pct: float, \n",
    "        upper_pct: float, right_pct: float, lower_pct: float\n",
    "    ) -> tuple[float, float, float, float]:\n",
    "        \"\"\"\n",
    "        Calculate crop box coordinates based on percentages of image dimensions.s.\n",
    "\n",
    "        Parameters:\n",
    "        - image: PIL Image object.\n",
    "        - left_pct: float, percentage (0 to 1.0) of the width for the left bound.\n",
    "        - upper_pct: float, percentage (0 to 1.0) of the height for the upper bound.\n",
    "        - right_pct: float, percentage (0 to 1.0) of the width for the right bound.\n",
    "        - lower_pct: float, percentage (0 to 1.0) of the height for the lower bound.\n",
    "\n",
    "        Returns:\n",
    "        - tuple, crop box coordinates (left, upper, right, lower).\n",
    "        \"\"\"\n",
    "        image_width, image_height = image.size\n",
    "        left = int(image_width * left_pct)\n",
    "        upper = int(image_height * upper_pct)\n",
    "        right = int(image_width * right_pct)\n",
    "        lower = int(image_height * lower_pct)\n",
    "        \n",
    "        return (left, upper, right, lower)\n"
   ]
  },
  {
   "cell_type": "code",
   "execution_count": null,
   "id": "ed858070",
   "metadata": {},
   "outputs": [],
   "source": [
    "def scale_image(image: Image, pct: float) -> Image:\n",
    "    new_size = (int(image.width * pct), int(image.height * pct))\n",
    "    return image.resize(new_size)"
   ]
  },
  {
   "cell_type": "code",
   "execution_count": null,
   "id": "b76f4afa",
   "metadata": {},
   "outputs": [],
   "source": [
    "def crop_images(input_dir: str, output_dir: str) -> None:\n",
    "    input_path = Path(input_dir)\n",
    "    output_path = Path(output_dir)\n",
    "    output_path.mkdir(parents=True, exist_ok=True)\n",
    "\n",
    "    for img_path in input_path.glob(\"*.jpg\"):\n",
    "        print(f\"Processing: {img_path.name}\")\n",
    "        img = Image.open(str(img_path))\n",
    "        box = calculate_crop_box(img, 0.8, 0.65, 1.0, 1.0)\n",
    "        img = scale_image(img.crop(box), 0.4)\n",
    "        \n",
    "        img_file = output_path / (img_path.stem + \".jpg\")\n",
    "        img.save(img_file, 'JPEG')"
   ]
  },
  {
   "cell_type": "code",
   "execution_count": null,
   "id": "c1fbffc7",
   "metadata": {},
   "outputs": [],
   "source": [
    "input_dir = os.path.join(doc_path, \"IMG\")\n",
    "output_dir = os.path.join(input_dir, \"CROP\")"
   ]
  },
  {
   "cell_type": "code",
   "execution_count": null,
   "id": "780bcaf0",
   "metadata": {},
   "outputs": [],
   "source": [
    "crop_images(input_dir, output_dir)"
   ]
  },
  {
   "cell_type": "markdown",
   "id": "cb3260d5",
   "metadata": {},
   "source": [
    "### Prompt Template"
   ]
  },
  {
   "cell_type": "code",
   "execution_count": null,
   "id": "8147771a",
   "metadata": {},
   "outputs": [],
   "source": [
    "def create_system_message() -> SystemMessage:\n",
    "    return SystemMessage(\n",
    "        content=\"\"\"You are an expert in Optical Character Recognition (OCR) and information extraction \n",
    "from engineering drawings. Your task is to analyze an image of an engineering \n",
    "drawing title block and extract the following information:\n",
    "\n",
    "Document No.: The unique identifier for the entire document.\n",
    "Sheet: The sheet number within the document (e.g., 1 of 3, 2 of 3, etc.). Extract the entire string as it appears.\n",
    "Rev: The revision number or letter.\n",
    "Title: The title of the drawing (may be multiline).\n",
    "\n",
    "Pay close attention to the layout and font styles within the title block. \n",
    "The information may be located in different positions within the image. \n",
    "Ensure accuracy and completeness in your extraction.\n",
    "\"\"\"\n",
    "    )"
   ]
  },
  {
   "cell_type": "code",
   "execution_count": null,
   "id": "b6d85435",
   "metadata": {},
   "outputs": [],
   "source": [
    "def create_example_message(examples: list[dict]) -> FewShotChatMessagePromptTemplate:\n",
    "    example_prompt=(\n",
    "        HumanMessagePromptTemplate.from_template([\n",
    "            \"Example:\\n\\nImage: \",\n",
    "            {\n",
    "                \"type\": \"image_url\",\n",
    "                \"image_url\": \"data:image/jpeg;base64,{image64}\"\n",
    "            }\n",
    "        ])\n",
    "        + AIMessagePromptTemplate.from_template(\"\"\"Extracted Information:\n",
    "\n",
    "Document No.: {doc_no}\n",
    "Sheet: {sheet_no}\n",
    "Rev: {revision}\n",
    "Title: {title}\n",
    "Project No.: {project_no}\n",
    "\"\"\"\n",
    "        )\n",
    "    )\n",
    "    return FewShotChatMessagePromptTemplate(\n",
    "        examples=examples,\n",
    "        example_prompt=example_prompt\n",
    "    )"
   ]
  },
  {
   "cell_type": "code",
   "execution_count": null,
   "id": "dcf4d8b6",
   "metadata": {},
   "outputs": [],
   "source": [
    "def create_prompt(examples: list[dict]) -> ChatPromptTemplate:\n",
    "    prompt = HumanMessagePromptTemplate.from_template([\n",
    "        \"\"\"Now, analyze the following image and extract the same information:\n",
    "\n",
    "Images:\"\"\",\n",
    "        {\n",
    "            \"type\": \"image_url\",\n",
    "            \"image_url\": \"data:image/jpeg;base64,{image64}\"\n",
    "        },\n",
    "        \"\"\"Output your answer in the following format:\n",
    "\n",
    "Document No.: [Extracted Document Number]\n",
    "Sheet: [Extracted Sheet Information]\n",
    "Rev: [Extracted Revision]\n",
    "Title: [Extracted Title]\n",
    "Project No.: [Extracted Project Number]\n",
    "\n",
    "Ensure that you follow the same format as shown in the examples.\n",
    "\"\"\"\n",
    "    ])\n",
    "    return ChatPromptTemplate.from_messages(\n",
    "        [\n",
    "            create_system_message(),\n",
    "            create_example_message(examples),\n",
    "            prompt,\n",
    "        ]\n",
    "    )"
   ]
  },
  {
   "cell_type": "markdown",
   "id": "6567725d",
   "metadata": {},
   "source": [
    "### Data Utils"
   ]
  },
  {
   "cell_type": "code",
   "execution_count": null,
   "id": "822541c3",
   "metadata": {},
   "outputs": [],
   "source": [
    "def image_to_base64(image: Image) -> str:\n",
    "    buffered = BytesIO()\n",
    "    image.save(buffered, format=\"JPEG\")\n",
    "    return base64.b64encode(buffered.getvalue()).decode(\"utf-8\")"
   ]
  },
  {
   "cell_type": "code",
   "execution_count": null,
   "id": "096f9e8e",
   "metadata": {},
   "outputs": [],
   "source": [
    "def create_image_message_content(image: Image) -> dict:\n",
    "    content = Base64ContentBlock(\n",
    "        type=\"image\",\n",
    "        source_type=\"base64\",\n",
    "        data=image_to_base64(image),\n",
    "        mime_type=\"image/jpeg\",\n",
    "    )\n",
    "    return convert_to_openai_image_block(content)"
   ]
  },
  {
   "cell_type": "code",
   "execution_count": null,
   "id": "fa47227d",
   "metadata": {},
   "outputs": [],
   "source": [
    "def load_test_config() -> dict:\n",
    "    file_path = os.path.join(doc_path, \"TEST\", \"TEST2.json\")\n",
    "    with open(file_path, 'r') as file:\n",
    "        return json.load(file)"
   ]
  },
  {
   "cell_type": "code",
   "execution_count": null,
   "id": "9bae3384",
   "metadata": {},
   "outputs": [],
   "source": [
    "def load_example_image(test_config: dict) -> Image:\n",
    "    example_doc_path = os.path.join(doc_path, \"IMG\", \"CROP\", test_config[\"example_doc\"])\n",
    "    return Image.open(example_doc_path)"
   ]
  },
  {
   "cell_type": "code",
   "execution_count": null,
   "id": "601fa755",
   "metadata": {},
   "outputs": [],
   "source": [
    "def load_image_doc(test_config: dict, doc_no: int) -> Image:\n",
    "    image_path = os.path.join(doc_path, \"IMG\", \"CROP\", test_config[\"docs\"][doc_no])\n",
    "    return Image.open(image_path)"
   ]
  },
  {
   "cell_type": "code",
   "execution_count": null,
   "id": "e335676b",
   "metadata": {},
   "outputs": [],
   "source": [
    "def load_examples(test_config: dict) -> list[dict]:\n",
    "    image = load_example_image(test_config)\n",
    "    example_doc = image_to_base64(image)\n",
    "    example_resp = test_config[\"response\"]\n",
    "    return [{\n",
    "        \"image64\" : example_doc,\n",
    "        \"title\" : example_resp[\"title\"],\n",
    "        \"sheet_no\" : example_resp[\"sheet_no\"],\n",
    "        \"doc_no\" : example_resp[\"doc_no\"],\n",
    "        \"revision\" : example_resp[\"revision\"],\n",
    "        \"project_no\" : example_resp[\"project_no\"]\n",
    "    }]"
   ]
  },
  {
   "cell_type": "markdown",
   "id": "e93e45f1",
   "metadata": {},
   "source": [
    "### Prompt Messages"
   ]
  },
  {
   "cell_type": "code",
   "execution_count": null,
   "id": "bc08a4e7",
   "metadata": {},
   "outputs": [],
   "source": [
    "test_config = load_test_config()\n",
    "# test_config"
   ]
  },
  {
   "cell_type": "code",
   "execution_count": null,
   "id": "8a669325",
   "metadata": {},
   "outputs": [],
   "source": [
    "examples = load_examples(test_config)\n",
    "examples"
   ]
  },
  {
   "cell_type": "code",
   "execution_count": null,
   "id": "a75c174a",
   "metadata": {},
   "outputs": [],
   "source": [
    "image64_example = create_image_message_content(load_example_image(test_config))\n",
    "image64_example"
   ]
  },
  {
   "cell_type": "code",
   "execution_count": null,
   "id": "6597282d",
   "metadata": {},
   "outputs": [],
   "source": [
    "example_message_prompt = create_example_message(examples)\n",
    "example_messages = example_message_prompt.format_messages()"
   ]
  },
  {
   "cell_type": "code",
   "execution_count": null,
   "id": "f5f00dd9",
   "metadata": {},
   "outputs": [],
   "source": [
    "for message in example_messages:\n",
    "    message.pretty_print()"
   ]
  },
  {
   "cell_type": "code",
   "execution_count": null,
   "id": "51670ccf",
   "metadata": {},
   "outputs": [],
   "source": [
    "count_tokens_approximately(example_messages)"
   ]
  },
  {
   "cell_type": "code",
   "execution_count": null,
   "id": "5b9fef64",
   "metadata": {},
   "outputs": [],
   "source": [
    "prompt = create_prompt(examples)\n",
    "image64_doc = image_to_base64(load_image_doc(test_config, 0))\n",
    "prompt_messages = prompt.format_messages(image64=image64_doc)"
   ]
  },
  {
   "cell_type": "code",
   "execution_count": null,
   "id": "ae4d57e3",
   "metadata": {},
   "outputs": [],
   "source": [
    "for message in prompt_messages:\n",
    "    message.pretty_print()"
   ]
  },
  {
   "cell_type": "code",
   "execution_count": null,
   "id": "173c0a62",
   "metadata": {},
   "outputs": [],
   "source": [
    "count_tokens_approximately(prompt_messages)"
   ]
  },
  {
   "cell_type": "code",
   "execution_count": null,
   "id": "8aef5e5b",
   "metadata": {},
   "outputs": [],
   "source": [
    "prompt_value = prompt.invoke({\n",
    "    \"image64\": image64_doc\n",
    "})"
   ]
  },
  {
   "cell_type": "markdown",
   "id": "590c4a45",
   "metadata": {},
   "source": [
    "### LLM"
   ]
  },
  {
   "cell_type": "code",
   "execution_count": null,
   "id": "f2460c6c",
   "metadata": {},
   "outputs": [],
   "source": [
    "\n",
    "from model import get_ollama_chat\n",
    "\n",
    "llm = get_ollama_chat()"
   ]
  },
  {
   "cell_type": "code",
   "execution_count": null,
   "id": "70a986cf",
   "metadata": {},
   "outputs": [],
   "source": [
    "chain = prompt | llm"
   ]
  },
  {
   "cell_type": "code",
   "execution_count": null,
   "id": "9ef44c56",
   "metadata": {},
   "outputs": [],
   "source": [
    "config = {\"configurable\": {\"temperature\": 0.1}}\n",
    "message = chain.invoke({\n",
    "    \"image64\": image64_doc\n",
    "}, config=config)"
   ]
  },
  {
   "cell_type": "code",
   "execution_count": null,
   "id": "f18bcb14",
   "metadata": {},
   "outputs": [],
   "source": [
    "print(message.content)"
   ]
  }
 ],
 "metadata": {
  "kernelspec": {
   "display_name": "py31209",
   "language": "python",
   "name": "python3"
  },
  "language_info": {
   "codemirror_mode": {
    "name": "ipython",
    "version": 3
   },
   "file_extension": ".py",
   "mimetype": "text/x-python",
   "name": "python",
   "nbconvert_exporter": "python",
   "pygments_lexer": "ipython3",
   "version": "3.13.2"
  }
 },
 "nbformat": 4,
 "nbformat_minor": 5
}
