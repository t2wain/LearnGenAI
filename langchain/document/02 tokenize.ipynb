{
 "cells": [
  {
   "cell_type": "markdown",
   "id": "2d608141",
   "metadata": {},
   "source": [
    "### Import"
   ]
  },
  {
   "cell_type": "code",
   "execution_count": null,
   "id": "39386c5d",
   "metadata": {},
   "outputs": [],
   "source": [
    "import os\n",
    "from pathlib import Path\n",
    "from langchain_community.document_loaders import PyPDFLoader"
   ]
  },
  {
   "cell_type": "markdown",
   "id": "923ea14b",
   "metadata": {},
   "source": [
    "### Environment"
   ]
  },
  {
   "cell_type": "code",
   "execution_count": null,
   "id": "642575db",
   "metadata": {},
   "outputs": [],
   "source": [
    "from dotenv import load_dotenv\n",
    "load_dotenv(\"../.env\")\n",
    "\n",
    "path = os.environ.get(\"DOC_PATH\")"
   ]
  },
  {
   "cell_type": "markdown",
   "id": "a9d8a42b",
   "metadata": {},
   "source": [
    "### Parse PDF Drawings and Save Extracted Text to Files"
   ]
  },
  {
   "cell_type": "code",
   "execution_count": null,
   "id": "f737b37f",
   "metadata": {},
   "outputs": [],
   "source": [
    "def extract_text_from_pdfs(input_dir: str, output_dir: str):\n",
    "    input_path = Path(input_dir)\n",
    "    output_path = Path(output_dir)\n",
    "    output_path.mkdir(parents=True, exist_ok=True)\n",
    "\n",
    "    for pdf_file in input_path.glob(\"*.pdf\"):\n",
    "        print(f\"Processing: {pdf_file.name}\")\n",
    "        loader = PyPDFLoader(\n",
    "            str(pdf_file),\n",
    "            mode = \"single\",\n",
    "            pages_delimiter = \"\\n\\f\",\n",
    "            extraction_mode = \"layout\",\n",
    "            extraction_kwargs={\"layout_mode_strip_rotated\": False}\n",
    "        )\n",
    "\n",
    "        documents = loader.load()\n",
    "        \n",
    "        # Join all text from pages\n",
    "        full_text = \"\\n\".join(doc.page_content for doc in documents)\n",
    "        \n",
    "        # Create corresponding .txt file\n",
    "        txt_file = output_path / (pdf_file.stem + \".txt\")\n",
    "        with open(txt_file, \"w\", encoding=\"utf-8\") as f:\n",
    "            f.write(full_text)\n",
    "        print(f\"Saved to: {txt_file}\")"
   ]
  },
  {
   "cell_type": "code",
   "execution_count": null,
   "id": "0e5e2254",
   "metadata": {},
   "outputs": [],
   "source": [
    "input_dir = path\n",
    "output_dir = os.path.join(input_dir, \"TXT\")\n",
    "print(output_dir)"
   ]
  },
  {
   "cell_type": "code",
   "execution_count": null,
   "id": "4b0ceffc",
   "metadata": {},
   "outputs": [],
   "source": [
    "extract_text_from_pdfs(input_dir, output_dir)"
   ]
  },
  {
   "cell_type": "markdown",
   "id": "fefe3e4b",
   "metadata": {},
   "source": [
    "### Extract Equipment Tags"
   ]
  },
  {
   "cell_type": "code",
   "execution_count": null,
   "id": "409ecd17",
   "metadata": {},
   "outputs": [],
   "source": [
    "import nltk\n",
    "import re\n",
    "from nltk.tokenize import word_tokenize\n",
    "# import string\n",
    "# from nltk.corpus import stopwords\n",
    "\n",
    "\n",
    "# nltk.download(\"punkt\")\n",
    "# nltk.download(\"stopwords\")"
   ]
  },
  {
   "cell_type": "code",
   "execution_count": null,
   "id": "cbe56c3a",
   "metadata": {},
   "outputs": [],
   "source": [
    "def process_text_file(file_path: str) -> set:\n",
    "    with open(file_path, \"r\", encoding=\"utf-8\") as f:\n",
    "        text = f.read()\n",
    "\n",
    "    # Tokenize\n",
    "    tokens = word_tokenize(text)\n",
    "\n",
    "    # Convert to lowercase, remove punctuation and stopwords\n",
    "    # stop_words = set(stopwords.words(\"english\"))\n",
    "    # punctuation = set(string.punctuation)\n",
    "\n",
    "    \n",
    "    # extract equipment tags from drawings\n",
    "    pattern = r\"(.+-){3,}.+\"\n",
    "    filtered_tokens = set(\n",
    "        word.upper()\n",
    "        for word in tokens\n",
    "        if not word.isalpha() and re.fullmatch(pattern, word)\n",
    "    )\n",
    "    \n",
    "    return filtered_tokens"
   ]
  },
  {
   "cell_type": "code",
   "execution_count": null,
   "id": "11504b92",
   "metadata": {},
   "outputs": [],
   "source": [
    "def extract_token_from_textfiles(input_dir: str):\n",
    "    text_path = Path(input_dir)\n",
    "\n",
    "    for txt_file in text_path.glob(\"*.txt\"):\n",
    "        print(f\"\\nProcessing: {txt_file.name}\\n\")\n",
    "        tokens = process_text_file(str(txt_file))\n",
    "        for token in tokens:\n",
    "            print(token)\n"
   ]
  },
  {
   "cell_type": "code",
   "execution_count": null,
   "id": "3bf90c9a",
   "metadata": {},
   "outputs": [],
   "source": [
    "extract_token_from_textfiles(output_dir)"
   ]
  }
 ],
 "metadata": {
  "kernelspec": {
   "display_name": "py31209",
   "language": "python",
   "name": "python3"
  },
  "language_info": {
   "codemirror_mode": {
    "name": "ipython",
    "version": 3
   },
   "file_extension": ".py",
   "mimetype": "text/x-python",
   "name": "python",
   "nbconvert_exporter": "python",
   "pygments_lexer": "ipython3",
   "version": "3.13.2"
  }
 },
 "nbformat": 4,
 "nbformat_minor": 5
}
