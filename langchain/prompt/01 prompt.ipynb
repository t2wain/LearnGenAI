{
 "cells": [
  {
   "cell_type": "code",
   "execution_count": null,
   "id": "e6815596",
   "metadata": {},
   "outputs": [],
   "source": [
    "from langchain.prompts.prompt import PromptTemplate"
   ]
  },
  {
   "cell_type": "code",
   "execution_count": null,
   "id": "0a503f18",
   "metadata": {},
   "outputs": [],
   "source": [
    "template = \"\"\"Describe {plant}.\n",
    "First, think whether {plant} exist.\n",
    "If they {plant} don't exist, answer \"I don't have enough information\n",
    "about {plant}\".\n",
    "Otherwise, give their title, a short summary and then talk about\n",
    "origin and cultivation.\n",
    "After that, describe their physical characteristics.\n",
    "\"\"\""
   ]
  },
  {
   "cell_type": "code",
   "execution_count": null,
   "id": "fa2d1a66",
   "metadata": {},
   "outputs": [],
   "source": [
    "prompt_template1 = PromptTemplate(\n",
    "    input_variables=[\"plant\"],\n",
    "    template=template,\n",
    ")\n",
    "\n",
    "prompt_template2 = PromptTemplate(\n",
    "    partial_variables={\"plant\":\"black cucumbers\"},\n",
    "    template=template,\n",
    ")\n",
    "\n",
    "prompt_template3 = PromptTemplate.from_template(template)\n",
    "\n",
    "prompt_template4 = prompt_template3.partial(plant=\"black cucumbers\")"
   ]
  },
  {
   "cell_type": "code",
   "execution_count": null,
   "id": "a32dfc86",
   "metadata": {},
   "outputs": [],
   "source": [
    "print(prompt_template1.format(plant=\"black cucumbers\"))"
   ]
  },
  {
   "cell_type": "code",
   "execution_count": null,
   "id": "6171b457",
   "metadata": {},
   "outputs": [],
   "source": [
    "pval = prompt_template1.invoke({\"plant\":\"black cucumbers\"})\n",
    "print(pval.text)"
   ]
  },
  {
   "cell_type": "code",
   "execution_count": null,
   "id": "4ba08c27",
   "metadata": {},
   "outputs": [],
   "source": [
    "prompt_template2.pretty_print()"
   ]
  },
  {
   "cell_type": "code",
   "execution_count": null,
   "id": "e6e2f913",
   "metadata": {},
   "outputs": [],
   "source": [
    "prompt_template3.pretty_print()"
   ]
  },
  {
   "cell_type": "code",
   "execution_count": null,
   "id": "64809696",
   "metadata": {},
   "outputs": [],
   "source": [
    "prompt_template4.pretty_print()"
   ]
  }
 ],
 "metadata": {
  "kernelspec": {
   "display_name": "py31209",
   "language": "python",
   "name": "python3"
  },
  "language_info": {
   "codemirror_mode": {
    "name": "ipython",
    "version": 3
   },
   "file_extension": ".py",
   "mimetype": "text/x-python",
   "name": "python",
   "nbconvert_exporter": "python",
   "pygments_lexer": "ipython3",
   "version": "3.13.2"
  }
 },
 "nbformat": 4,
 "nbformat_minor": 5
}
