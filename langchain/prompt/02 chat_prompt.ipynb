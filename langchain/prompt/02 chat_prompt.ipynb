{
 "cells": [
  {
   "cell_type": "code",
   "execution_count": null,
   "id": "2df3444d",
   "metadata": {},
   "outputs": [],
   "source": [
    "from langchain.prompts import (\n",
    "    ChatPromptTemplate,\n",
    "    HumanMessagePromptTemplate,\n",
    "    SystemMessagePromptTemplate,\n",
    "    AIMessagePromptTemplate,\n",
    "    MessagesPlaceholder,\n",
    ")\n",
    "from langchain_core.messages import (\n",
    "    BaseMessage,\n",
    "    SystemMessage,\n",
    "    HumanMessage,\n",
    "    AIMessage,\n",
    ")"
   ]
  },
  {
   "cell_type": "code",
   "execution_count": null,
   "id": "52019c0a",
   "metadata": {},
   "outputs": [],
   "source": [
    "chat_template = ChatPromptTemplate.from_messages(\n",
    "    [\n",
    "        SystemMessage(\n",
    "            content=(\n",
    "                \"\"\"You are a helpful assistant that helps extract entities from \n",
    "product descriptions. You always respond in a json format.\"\"\")\n",
    "        ),\n",
    "        HumanMessagePromptTemplate.from_template(\n",
    "            \"\"\"Extract the following entities:\\n{entities}\\n \n",
    "from the item's description:\\n{description}.\"\"\"),\n",
    "    ]\n",
    ")"
   ]
  },
  {
   "cell_type": "code",
   "execution_count": null,
   "id": "1977a20d",
   "metadata": {},
   "outputs": [],
   "source": [
    "messages = chat_template.format_messages(entities=\"price, RAM\", description=\"Price: $1,000 and RAM: 32GB\")\n",
    "for message in messages:\n",
    "    print(\"---\", message.type, \"---\\n\")\n",
    "    print(message.content, \"\\n\")"
   ]
  },
  {
   "cell_type": "code",
   "execution_count": null,
   "id": "d683cd6b",
   "metadata": {},
   "outputs": [],
   "source": [
    "prompt_value = chat_template.format_prompt(entities=\"price, RAM\", description=\"Price: $1,000 and RAM: 32GB\")\n",
    "print(prompt_value.to_string())"
   ]
  },
  {
   "cell_type": "code",
   "execution_count": null,
   "id": "ce98b5ec",
   "metadata": {},
   "outputs": [],
   "source": [
    "prompt_value =  chat_template.invoke({\"entities\":\"price, RAM\", \"description\":\"Price: $1,000 and RAM: 32GB\"})\n",
    "print(prompt_value.to_string())"
   ]
  },
  {
   "cell_type": "code",
   "execution_count": null,
   "id": "a276e14e",
   "metadata": {},
   "outputs": [],
   "source": [
    "template = ChatPromptTemplate([\n",
    "    (\"system\", \"You are a helpful AI bot. Your name is {name}.\"),\n",
    "    (\"human\", \"Hello, how are you doing?\"),\n",
    "    (\"ai\", \"I'm doing well, thanks!\"),\n",
    "    (\"human\", \"{user_input}\"),\n",
    "])\n",
    "\n",
    "prompt_value = template.invoke(\n",
    "    {\n",
    "        \"name\": \"Bob\",\n",
    "        \"user_input\": \"What is your name?\"\n",
    "    }\n",
    ")\n",
    "\n",
    "messages = prompt_value.to_messages()\n",
    "for message in messages:\n",
    "    print(message.type, \":\", message.content)"
   ]
  },
  {
   "cell_type": "code",
   "execution_count": null,
   "id": "ad6662ec",
   "metadata": {},
   "outputs": [],
   "source": [
    "template2 = ChatPromptTemplate([\n",
    "    (\"system\", \"You are a helpful AI bot.\"),\n",
    "    # Means the template will receive an optional list of messages under\n",
    "    # the \"conversation\" key\n",
    "    (\"placeholder\", \"{conversation}\")\n",
    "    # Equivalently:\n",
    "    # MessagesPlaceholder(variable_name=\"conversation\", optional=True)\n",
    "])\n",
    "\n",
    "prompt_value = template2.invoke({})\n",
    "\n",
    "messages = prompt_value.to_messages()\n",
    "for message in messages:\n",
    "    print(message.type, \":\", message.content)"
   ]
  },
  {
   "cell_type": "code",
   "execution_count": null,
   "id": "ae89f5d4",
   "metadata": {},
   "outputs": [],
   "source": [
    "prompt_value = template2.invoke(\n",
    "    {\n",
    "        \"conversation\": [\n",
    "            (\"human\", \"Hi!\"),\n",
    "            (\"ai\", \"How can I assist you today?\"),\n",
    "            (\"human\", \"Can you make me an ice cream sundae?\"),\n",
    "            (\"ai\", \"No.\")\n",
    "        ]\n",
    "    }\n",
    ")\n",
    "\n",
    "messages = prompt_value.to_messages()\n",
    "for message in messages:\n",
    "    print(message.type, \":\", message.content)"
   ]
  }
 ],
 "metadata": {
  "kernelspec": {
   "display_name": "py31209",
   "language": "python",
   "name": "python3"
  },
  "language_info": {
   "codemirror_mode": {
    "name": "ipython",
    "version": 3
   },
   "file_extension": ".py",
   "mimetype": "text/x-python",
   "name": "python",
   "nbconvert_exporter": "python",
   "pygments_lexer": "ipython3",
   "version": "3.13.2"
  }
 },
 "nbformat": 4,
 "nbformat_minor": 5
}
