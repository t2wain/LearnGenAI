{
 "cells": [
  {
   "cell_type": "markdown",
   "id": "08e3fa8d",
   "metadata": {},
   "source": [
    "### Import"
   ]
  },
  {
   "cell_type": "code",
   "execution_count": null,
   "id": "0b811193",
   "metadata": {},
   "outputs": [],
   "source": [
    "from langchain.prompts.prompt import PromptTemplate\n",
    "from langchain.prompts.few_shot import FewShotPromptTemplate"
   ]
  },
  {
   "cell_type": "markdown",
   "id": "bbdd3141",
   "metadata": {},
   "source": [
    "### Prompt Template for Examples"
   ]
  },
  {
   "cell_type": "code",
   "execution_count": null,
   "id": "b71e3945",
   "metadata": {},
   "outputs": [],
   "source": [
    "# each example has \"keywords\" and \"response\" variables\n",
    "examples = [\n",
    "    {\n",
    "        \"keywords\": \"\"\"best fan for hot summer days, powerful, cozy,\n",
    "wood tone, enjoy cold drink\"\"\",\n",
    "        \"response\": (\n",
    "            \"Slogan: Breeze 4000: Feel the Difference.\\n\"\n",
    "            \"Tagline: Design, Comfort, Performance – The Ultimate Summer Upgrade.\\n\"\n",
    "            \"Short Description: Beat the heat in style with the Breeze 4000. \"\n",
    "            \"Its sleek wood-tone design and whisper-quiet operation create \"\n",
    "            \"the perfect oasis for enjoying a cool drink on those hot summer days.\\n\"\n",
    "            \"Call to action: 1/ Experience the Breeze 4000 difference today. \"\n",
    "            \"(Emphasizes the unique qualities)\\n\"\n",
    "            \"2/ Upgrade your summer. Shop the Breeze 4000 now. (Creates a sense of urgency)\\n\"\n",
    "            \"3/ Find your perfect Breeze 4000 style. (Focus on design and personalization)\"\n",
    "        )\n",
    "    },\n",
    "]\n",
    "\n",
    "# construct prompt template for examples\n",
    "# has input variables \"keywords\" and \"response\"\n",
    "example_prompt = PromptTemplate(\n",
    "    input_variables=[\"keywords\", \"response\"],\n",
    "    template=\"Example keywords:\\n{keywords}\\nExample response:\\n{response}\"\n",
    ")"
   ]
  },
  {
   "cell_type": "markdown",
   "id": "bed7190b",
   "metadata": {},
   "source": [
    "### Prompt Template for the Request"
   ]
  },
  {
   "cell_type": "code",
   "execution_count": null,
   "id": "8cdde2fe",
   "metadata": {},
   "outputs": [],
   "source": [
    "instruction = (\n",
    "    \"\"\"---INSTRUCTION--- \\nYou are an intelligent assistant that helps\n",
    "marketers write great copy for campaigns on our website, which sells\n",
    "premium ceiling fans to design-conscious customers. Please create\n",
    "campaign copy (a slogan, a tagline, a short description, and three\n",
    "calls-to-action) based on keywords. Use the information from your\n",
    "context to choose the right products to advertise. Follow the examples\n",
    "below to ensure that you follow company branding standards.\\n\"\"\"\n",
    ")\n",
    "\n",
    "# has input variables \"context\" and \"keywords\"\n",
    "prompt_template = \"---CONTEXT---\\n{context}\\n---KEYWORDS FOR CREATING COPY---\\n{keywords}\\n\"\n",
    "\n",
    "prompt = FewShotPromptTemplate(\n",
    "    prefix=instruction, # system instruction\n",
    "    \n",
    "    # iterate through examples to be included in prompt\n",
    "    # insert examples in between \"prefix\" and \"suffix\"\n",
    "    examples=examples,\n",
    "    example_prompt=example_prompt,\n",
    "\n",
    "    suffix=prompt_template, # user's request\n",
    "    input_variables=[\"context\", \"keywords\"],\n",
    ")"
   ]
  },
  {
   "cell_type": "markdown",
   "id": "01b16af4",
   "metadata": {},
   "source": [
    "### Build Request Prompt"
   ]
  },
  {
   "cell_type": "code",
   "execution_count": null,
   "id": "753dda6a",
   "metadata": {},
   "outputs": [],
   "source": [
    "# input variable \"context\"\n",
    "context = [\n",
    "    {\n",
    "        \"name\": \"Whirlwind BreezeMaster 3000\",\n",
    "        \"performanceRating\": \"high\",\n",
    "        \"outdoor\": True,\n",
    "        \"powerSource\": \"electric\",\n",
    "        \"price\": 249.99\n",
    "    }\n",
    "]\n",
    "\n",
    "# input variable \"keywords\"\n",
    "keywords = \"best fan for dry heat, powerful, outdoor, porch, affordable\"\n",
    "\n",
    "# parse prompt\n",
    "prompt_value = prompt.invoke({\"context\": context, \"keywords\": keywords})\n",
    "\n",
    "messages = prompt_value.to_messages()\n",
    "print(\"Message count\", \":\", len(messages), \"\\n\")\n",
    "for message in messages:\n",
    "    print(message.type, \":\", message.content)"
   ]
  }
 ],
 "metadata": {
  "kernelspec": {
   "display_name": "py31209",
   "language": "python",
   "name": "python3"
  },
  "language_info": {
   "codemirror_mode": {
    "name": "ipython",
    "version": 3
   },
   "file_extension": ".py",
   "mimetype": "text/x-python",
   "name": "python",
   "nbconvert_exporter": "python",
   "pygments_lexer": "ipython3",
   "version": "3.13.2"
  }
 },
 "nbformat": 4,
 "nbformat_minor": 5
}
