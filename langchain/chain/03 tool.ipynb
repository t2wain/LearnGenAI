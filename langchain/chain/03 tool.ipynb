{
 "cells": [
  {
   "cell_type": "markdown",
   "id": "21ce5110",
   "metadata": {},
   "source": [
    "### Import"
   ]
  },
  {
   "cell_type": "code",
   "execution_count": null,
   "id": "14deace6",
   "metadata": {},
   "outputs": [],
   "source": [
    "import os\n",
    "import sys\n",
    "from dotenv import load_dotenv\n",
    "\n",
    "load_dotenv(\"../.env\")\n",
    "code_path = os.environ.get(\"CODE_PATH\")\n",
    "doc_path = os.environ.get(\"DOC_PATH\")\n",
    "sys.path.append(code_path)"
   ]
  },
  {
   "cell_type": "code",
   "execution_count": null,
   "id": "4135650c",
   "metadata": {},
   "outputs": [],
   "source": [
    "from langchain_core.messages import (\n",
    "    AIMessage,\n",
    "    ToolMessage\n",
    ")\n",
    "from langchain_core.messages.tool import tool_call\n",
    "from langchain_core.tools import (\n",
    "    tool,\n",
    "    StructuredTool,\n",
    "    BaseTool\n",
    ")\n",
    "from langchain_core.utils.function_calling import (\n",
    "    convert_to_json_schema,\n",
    "    convert_to_openai_tool,\n",
    ")\n",
    "import json\n",
    "from pydantic import (\n",
    "    BaseModel,\n",
    "    Field\n",
    ")\n",
    "from model import (\n",
    "    get_fake_chat_message,\n",
    "    print_dict,\n",
    ")\n",
    "from langchain_core.utils.function_calling import (\n",
    "    convert_to_json_schema,\n",
    "    convert_to_openai_tool,\n",
    "    convert_to_openai_function\n",
    ")"
   ]
  },
  {
   "cell_type": "markdown",
   "id": "74c89a80",
   "metadata": {},
   "source": [
    "### Tool"
   ]
  },
  {
   "cell_type": "code",
   "execution_count": null,
   "id": "72babf98",
   "metadata": {},
   "outputs": [],
   "source": [
    "# use @tool decorator to create a tool\n",
    "# include type and help string to provide more information to the LLM\n",
    "@tool\n",
    "def add_number_tool(x: int, y: int) -> int:\n",
    "    \"\"\"Add two numbers\"\"\"\n",
    "    return x + y\n",
    "\n",
    "print(add_number_tool.__class__) # StructuredTool\n",
    "\n",
    "# run the tool\n",
    "res = add_number_tool.invoke({\"x\": 2, \"y\": 3})\n",
    "print(res.__class__)\n",
    "\n",
    "print(res)"
   ]
  },
  {
   "cell_type": "code",
   "execution_count": null,
   "id": "fd32cabf",
   "metadata": {},
   "outputs": [],
   "source": [
    "# use pydantic model to provide more information about the tool to the LLM\n",
    "class IncreasePricesInput(BaseModel):\n",
    "    prices: list[float] = Field(description=\"List of prices to increase\")\n",
    "    increase_factor: float = Field(description=\"Factor by which to increase the prices\")\n",
    "\n",
    "class IncreasePricesOutput(BaseModel):\n",
    "    prices: list[float] = Field(description=\"List of prices\")\n",
    "\n",
    "# use @tool decorator to create a tool\n",
    "@tool(args_schema=IncreasePricesInput)\n",
    "def increase_prices(prices: list[float], increase_factor: float) -> IncreasePricesOutput:\n",
    "    \"\"\"Increase a list of prices by multiplying them with an increase factor\"\"\"\n",
    "    return IncreasePricesOutput(prices = [round(price * increase_factor, 2) for price in prices])\n",
    "\n",
    "print(increase_prices.__class__) # StructuredTool\n",
    "\n",
    "res = increase_prices.invoke({ \"prices\": [2.5,2.8,3.3], \"increase_factor\": 1.5})\n",
    "print(res.__class__)\n",
    "print(res.__dict__)"
   ]
  },
  {
   "cell_type": "code",
   "execution_count": null,
   "id": "c0c1c1e0",
   "metadata": {},
   "outputs": [],
   "source": [
    "# use pydantic model to provide more information about the tool to the LLM\n",
    "class MultiplyInput(BaseModel):\n",
    "    x: int = Field(description=\"Number\")\n",
    "    y: int = Field(description=\"Another number\")\n",
    "\n",
    "# include type and help string to provide more information to the LLM\n",
    "def multiply_number(x: int, y: int) -> int:\n",
    "    \"\"\"Multiply 2 numbers\"\"\"\n",
    "    return x * y\n",
    "\n",
    "# create a tool\n",
    "multiply_number_tool = StructuredTool.from_function(\n",
    "    func=multiply_number,\n",
    "    name=\"Multiplication\",\n",
    "    description=\"Multiply 2 numbers\",\n",
    "    args_schema=MultiplyInput,\n",
    "    return_direct=True,\n",
    ")\n",
    "\n",
    "# run the tool\n",
    "res = multiply_number_tool.invoke({\"x\": 2, \"y\": 3})\n",
    "print(res.__class__)\n",
    "print(res)"
   ]
  },
  {
   "cell_type": "markdown",
   "id": "aab71edd",
   "metadata": {},
   "source": [
    "### Tool Call"
   ]
  },
  {
   "cell_type": "code",
   "execution_count": null,
   "id": "3985fbea",
   "metadata": {},
   "outputs": [],
   "source": [
    "# track the tools\n",
    "tools: dict[str, BaseTool] = {\n",
    "    \"multiply_number_tool\" : multiply_number_tool,\n",
    "    \"increase_prices\" : increase_prices,\n",
    "    \"add_number_tool\" : add_number_tool\n",
    "}"
   ]
  },
  {
   "cell_type": "code",
   "execution_count": null,
   "id": "fb22b9b7",
   "metadata": {},
   "outputs": [],
   "source": [
    "# An example of model responded with tool calls\n",
    "ai_msg = AIMessage(\n",
    "    content = \"\",\n",
    "    tool_calls = [\n",
    "            tool_call( # create ToolCall object\n",
    "                name=\"increase_prices\", \n",
    "                args = { \"prices\": [2.5,2.8,3.3], \"increase_factor\": 1.5}, \n",
    "                id = \"tool_call_id_1\"),\n",
    "        ]\n",
    ")\n",
    "\n",
    "model = get_fake_chat_message([ai_msg])"
   ]
  },
  {
   "cell_type": "code",
   "execution_count": null,
   "id": "c4d7f17c",
   "metadata": {},
   "outputs": [],
   "source": [
    "# return response for tool calls\n",
    "def run_tool(msg: AIMessage, tools: list[BaseTool]) -> list[ToolMessage]:\n",
    "    tool_messages: list[ToolMessage] = []\n",
    "    for tool in msg.tool_calls: # response contains tool calls\n",
    "        tool_name = tool[\"name\"]\n",
    "        if tool_name in tools: # lookup tool\n",
    "            res = tools[tool_name].invoke(tool[\"args\"]) # call the tool\n",
    "            tool_messages.append(ToolMessage( # return result as ToolMessage\n",
    "                content=res,\n",
    "                artifact={},\n",
    "                tool_call_id=tool[\"id\"],\n",
    "            ))\n",
    "\n",
    "    return tool_messages"
   ]
  },
  {
   "cell_type": "code",
   "execution_count": null,
   "id": "b99c4bdf",
   "metadata": {},
   "outputs": [],
   "source": [
    "# expect a tool call response\n",
    "res: AIMessage = model.invoke(\"\")\n",
    "if res.tool_calls:\n",
    "    messages = run_tool(res, tools)\n",
    "    for msg in messages:\n",
    "        print_dict(msg.__dict__)\n",
    "else:\n",
    "    print(res.content)"
   ]
  },
  {
   "cell_type": "markdown",
   "id": "38240b26",
   "metadata": {},
   "source": [
    "### Output Schema"
   ]
  },
  {
   "cell_type": "code",
   "execution_count": null,
   "id": "31e8f848",
   "metadata": {},
   "outputs": [],
   "source": [
    "# convert a Tool to schema as required by LLM\n",
    "formatted_tool = convert_to_openai_tool(increase_prices)\n",
    "tool_name = formatted_tool[\"function\"][\"name\"]\n",
    "print_dict(formatted_tool)"
   ]
  },
  {
   "cell_type": "code",
   "execution_count": null,
   "id": "82fb198f",
   "metadata": {},
   "outputs": [],
   "source": [
    "print_dict(IncreasePricesInput.model_json_schema())"
   ]
  },
  {
   "cell_type": "code",
   "execution_count": null,
   "id": "3c2c3598",
   "metadata": {},
   "outputs": [],
   "source": [
    "print_dict(convert_to_json_schema(IncreasePricesInput))"
   ]
  }
 ],
 "metadata": {
  "kernelspec": {
   "display_name": "py31209",
   "language": "python",
   "name": "python3"
  },
  "language_info": {
   "codemirror_mode": {
    "name": "ipython",
    "version": 3
   },
   "file_extension": ".py",
   "mimetype": "text/x-python",
   "name": "python",
   "nbconvert_exporter": "python",
   "pygments_lexer": "ipython3",
   "version": "3.13.2"
  }
 },
 "nbformat": 4,
 "nbformat_minor": 5
}
