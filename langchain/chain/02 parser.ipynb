{
 "cells": [
  {
   "cell_type": "markdown",
   "id": "c0e97ed6",
   "metadata": {},
   "source": [
    "### Import"
   ]
  },
  {
   "cell_type": "code",
   "execution_count": null,
   "id": "16076f2b",
   "metadata": {},
   "outputs": [],
   "source": [
    "from langchain_core.language_models.fake_chat_models import (\n",
    "    FakeListChatModel, \n",
    ")\n",
    "from langchain_core.runnables import ConfigurableField, Runnable\n",
    "from langchain_core.output_parsers import (\n",
    "    JsonOutputParser, \n",
    "    StrOutputParser, \n",
    "    CommaSeparatedListOutputParser,\n",
    "    NumberedListOutputParser,\n",
    "    PydanticOutputParser,\n",
    ")\n",
    "import json\n",
    "from pydantic import (\n",
    "    BaseModel,\n",
    "    Field\n",
    ")"
   ]
  },
  {
   "cell_type": "code",
   "execution_count": null,
   "id": "a89cfd29",
   "metadata": {},
   "outputs": [],
   "source": [
    "def print_dict(val: dict):\n",
    "    print(json.dumps(val, indent=4))"
   ]
  },
  {
   "cell_type": "markdown",
   "id": "651a5544",
   "metadata": {},
   "source": [
    "### Test Model"
   ]
  },
  {
   "cell_type": "code",
   "execution_count": null,
   "id": "6ee1081f",
   "metadata": {},
   "outputs": [],
   "source": [
    "resp_list = [\n",
    "    'Hello from AI', \n",
    "    'How may I help you?', \n",
    "    'Another message from AI']\n",
    "model = FakeListChatModel(responses = resp_list)"
   ]
  },
  {
   "cell_type": "code",
   "execution_count": null,
   "id": "368763af",
   "metadata": {},
   "outputs": [],
   "source": [
    "resp = model.invoke('')\n",
    "print(resp.__class__)\n",
    "print(resp.content)\n",
    "for resp in resp_list[1:]:\n",
    "    print(model.invoke('').content)"
   ]
  },
  {
   "cell_type": "code",
   "execution_count": null,
   "id": "aa57d54f",
   "metadata": {},
   "outputs": [],
   "source": [
    "model2 = model.configurable_fields(\n",
    "    responses=ConfigurableField(\n",
    "        id=\"responses\",\n",
    "        name=\"List of responses to cycle through in order.\",\n",
    "        description=\"List of responses to cycle through in order.\",\n",
    "    )\n",
    ")"
   ]
  },
  {
   "cell_type": "code",
   "execution_count": null,
   "id": "29851e53",
   "metadata": {},
   "outputs": [],
   "source": [
    "custom_resp = ['Custom AI message']\n",
    "config = {\"configurable\": {\"responses\": custom_resp}}\n",
    "resp = model2.invoke(\"\", config=config)\n",
    "print(resp.__class__)\n",
    "print(resp.content)"
   ]
  },
  {
   "cell_type": "markdown",
   "id": "49745192",
   "metadata": {},
   "source": [
    "### With Parser"
   ]
  },
  {
   "cell_type": "code",
   "execution_count": null,
   "id": "db012923",
   "metadata": {},
   "outputs": [],
   "source": [
    "chain = model | StrOutputParser()\n",
    "resp = chain.invoke('')\n",
    "print(resp.__class__)\n",
    "print(resp)\n",
    "\n",
    "for resp in resp_list[1:]:\n",
    "    print(chain.invoke(''))"
   ]
  },
  {
   "cell_type": "code",
   "execution_count": null,
   "id": "1157bfb4",
   "metadata": {},
   "outputs": [],
   "source": [
    "custom_resp = '{\"price\": \"$1,000\", \"RAM\": \"6GB\"}'\n",
    "# custom_resp = json.dumps({'price': '$1,000', 'RAM': '6GB'})\n",
    "config = {\"configurable\": {\"responses\": [custom_resp]}}\n",
    "parser = JsonOutputParser()\n",
    "print(parser.get_format_instructions())\n",
    "\n",
    "chain2 = model2 | parser\n",
    "resp = chain2.invoke(\"\", config=config)\n",
    "print(resp.__class__)\n",
    "print(resp)"
   ]
  },
  {
   "cell_type": "code",
   "execution_count": null,
   "id": "cb73e83b",
   "metadata": {},
   "outputs": [],
   "source": [
    "custom_resp = 'one, two, three'\n",
    "config = {\"configurable\": {\"responses\": [custom_resp]}}\n",
    "parser = CommaSeparatedListOutputParser()\n",
    "print(parser.get_format_instructions())\n",
    "\n",
    "chain2 = model2 | parser\n",
    "resp = chain2.invoke(\"\", config=config)\n",
    "print(resp.__class__)\n",
    "print(resp)"
   ]
  },
  {
   "cell_type": "code",
   "execution_count": null,
   "id": "6a45db56",
   "metadata": {},
   "outputs": [],
   "source": [
    "custom_resp = \"\"\"\n",
    "1. One\n",
    "2. Two\n",
    "3. Three\n",
    "\"\"\"\n",
    "config = {\"configurable\": {\"responses\": [custom_resp]}}\n",
    "parser = NumberedListOutputParser()\n",
    "print(parser.get_format_instructions())\n",
    "\n",
    "chain2 = model2 | parser\n",
    "resp = chain2.invoke(\"\", config=config)\n",
    "print(resp.__class__)\n",
    "print(resp)"
   ]
  },
  {
   "cell_type": "markdown",
   "id": "af111b76",
   "metadata": {},
   "source": [
    "### Pydantic Parser"
   ]
  },
  {
   "cell_type": "code",
   "execution_count": null,
   "id": "769a020b",
   "metadata": {},
   "outputs": [],
   "source": [
    "class AnswerWithJustification(BaseModel):\n",
    "    '''An answer to the user question along with justification for the answer.'''\n",
    "    answer: str\n",
    "    justification: str"
   ]
  },
  {
   "cell_type": "code",
   "execution_count": null,
   "id": "1ebe851f",
   "metadata": {},
   "outputs": [],
   "source": [
    "data = {\n",
    "    'answer': 'They weigh the same',\n",
    "    'justification': (\n",
    "        'Both a pound of bricks and a pound of feathers weigh one pound. '\n",
    "        'The weight is the same, but the volume and density of the two substances differ.'\n",
    "    )\n",
    "}\n",
    "config = {\"configurable\": {\"responses\": [json.dumps(data)]}}\n",
    "parser = PydanticOutputParser(pydantic_object=AnswerWithJustification)\n",
    "print(parser.get_format_instructions())\n",
    "\n",
    "chain2 = model2 | parser\n",
    "resp = chain2.invoke(\"\", config=config)\n",
    "print(resp.__class__)\n",
    "print_dict(resp.__dict__)"
   ]
  }
 ],
 "metadata": {
  "kernelspec": {
   "display_name": "py31209",
   "language": "python",
   "name": "python3"
  },
  "language_info": {
   "codemirror_mode": {
    "name": "ipython",
    "version": 3
   },
   "file_extension": ".py",
   "mimetype": "text/x-python",
   "name": "python",
   "nbconvert_exporter": "python",
   "pygments_lexer": "ipython3",
   "version": "3.13.2"
  }
 },
 "nbformat": 4,
 "nbformat_minor": 5
}
