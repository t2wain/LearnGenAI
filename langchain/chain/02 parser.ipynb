{
 "cells": [
  {
   "cell_type": "markdown",
   "id": "c0e97ed6",
   "metadata": {},
   "source": [
    "### Import"
   ]
  },
  {
   "cell_type": "code",
   "execution_count": null,
   "id": "16076f2b",
   "metadata": {},
   "outputs": [],
   "source": [
    "from langchain_core.language_models.fake_chat_models import (\n",
    "    FakeListChatModel, \n",
    "    FakeMessagesListChatModel\n",
    ")\n",
    "from langchain_core.runnables import ConfigurableField\n",
    "from langchain_core.output_parsers import (\n",
    "    JsonOutputParser, \n",
    "    StrOutputParser, \n",
    "    CommaSeparatedListOutputParser,\n",
    "    NumberedListOutputParser,\n",
    "    PydanticOutputParser\n",
    ")\n",
    "import json\n",
    "from pydantic import (\n",
    "    BaseModel,\n",
    "    Field\n",
    ")\n",
    "from langchain_core.messages import (\n",
    "    AIMessage,\n",
    "    ToolCall,\n",
    "    ToolMessage\n",
    ")\n",
    "from langchain_core.messages.tool import tool_call\n",
    "from langchain_core.tools import (\n",
    "    tool,\n",
    "    StructuredTool,\n",
    "    BaseTool\n",
    ")"
   ]
  },
  {
   "cell_type": "markdown",
   "id": "651a5544",
   "metadata": {},
   "source": [
    "### Test Model"
   ]
  },
  {
   "cell_type": "code",
   "execution_count": null,
   "id": "6ee1081f",
   "metadata": {},
   "outputs": [],
   "source": [
    "resp_list = [\n",
    "    'Hello from AI', \n",
    "    'How may I help you?', \n",
    "    'Another message from AI']\n",
    "model = FakeListChatModel(responses = resp_list)"
   ]
  },
  {
   "cell_type": "code",
   "execution_count": null,
   "id": "368763af",
   "metadata": {},
   "outputs": [],
   "source": [
    "resp = model.invoke('')\n",
    "print(resp.__class__)\n",
    "print(resp.content)\n",
    "for resp in resp_list[1:]:\n",
    "    print(model.invoke('').content)"
   ]
  },
  {
   "cell_type": "code",
   "execution_count": null,
   "id": "aa57d54f",
   "metadata": {},
   "outputs": [],
   "source": [
    "model2 = model.configurable_fields(\n",
    "    responses=ConfigurableField(\n",
    "        id=\"responses\",\n",
    "        name=\"List of responses to cycle through in order.\",\n",
    "        description=\"List of responses to cycle through in order.\",\n",
    "    )\n",
    ")"
   ]
  },
  {
   "cell_type": "code",
   "execution_count": null,
   "id": "29851e53",
   "metadata": {},
   "outputs": [],
   "source": [
    "custom_resp = ['Custom AI message']\n",
    "config = {\"configurable\": {\"responses\": custom_resp}}\n",
    "resp = model2.invoke(\"\", config=config)\n",
    "print(resp.__class__)\n",
    "print(resp.content)"
   ]
  },
  {
   "cell_type": "markdown",
   "id": "49745192",
   "metadata": {},
   "source": [
    "### With Parser"
   ]
  },
  {
   "cell_type": "code",
   "execution_count": null,
   "id": "db012923",
   "metadata": {},
   "outputs": [],
   "source": [
    "chain = model | StrOutputParser()\n",
    "resp = chain.invoke('')\n",
    "print(resp.__class__)\n",
    "print(resp)\n",
    "\n",
    "for resp in resp_list[1:]:\n",
    "    print(chain.invoke(''))"
   ]
  },
  {
   "cell_type": "code",
   "execution_count": null,
   "id": "1157bfb4",
   "metadata": {},
   "outputs": [],
   "source": [
    "custom_resp = '{\"price\": \"$1,000\", \"RAM\": \"6GB\"}'\n",
    "# custom_resp = json.dumps({'price': '$1,000', 'RAM': '6GB'})\n",
    "config = {\"configurable\": {\"responses\": [custom_resp]}}\n",
    "chain2 = model2 | JsonOutputParser()\n",
    "resp = chain2.invoke(\"\", config=config)\n",
    "print(resp.__class__)\n",
    "print(resp)"
   ]
  },
  {
   "cell_type": "code",
   "execution_count": null,
   "id": "cb73e83b",
   "metadata": {},
   "outputs": [],
   "source": [
    "custom_resp = 'one, two, three'\n",
    "config = {\"configurable\": {\"responses\": [custom_resp]}}\n",
    "chain2 = model2 | CommaSeparatedListOutputParser()\n",
    "resp = chain2.invoke(\"\", config=config)\n",
    "print(resp.__class__)\n",
    "print(resp)"
   ]
  },
  {
   "cell_type": "code",
   "execution_count": null,
   "id": "6a45db56",
   "metadata": {},
   "outputs": [],
   "source": [
    "custom_resp = \"\"\"\n",
    "1. One\n",
    "2. Two\n",
    "3. Three\n",
    "\"\"\"\n",
    "config = {\"configurable\": {\"responses\": [custom_resp]}}\n",
    "chain2 = model2 | NumberedListOutputParser()\n",
    "resp = chain2.invoke(\"\", config=config)\n",
    "print(resp.__class__)\n",
    "print(resp)"
   ]
  },
  {
   "cell_type": "markdown",
   "id": "af111b76",
   "metadata": {},
   "source": [
    "### Pydantic Parser"
   ]
  },
  {
   "cell_type": "code",
   "execution_count": null,
   "id": "769a020b",
   "metadata": {},
   "outputs": [],
   "source": [
    "class AnswerWithJustification(BaseModel):\n",
    "    '''An answer to the user question along with justification for the answer.'''\n",
    "    answer: str\n",
    "    justification: str"
   ]
  },
  {
   "cell_type": "code",
   "execution_count": null,
   "id": "1ebe851f",
   "metadata": {},
   "outputs": [],
   "source": [
    "data = {\n",
    "    'answer': 'They weigh the same',\n",
    "    'justification': (\n",
    "        'Both a pound of bricks and a pound of feathers weigh one pound. '\n",
    "        'The weight is the same, but the volume and density of the two substances differ.'\n",
    "    )\n",
    "}\n",
    "config = {\"configurable\": {\"responses\": [json.dumps(data)]}}\n",
    "chain2 = model2 | PydanticOutputParser(pydantic_object=AnswerWithJustification)\n",
    "resp = chain2.invoke(\"\", config=config)\n",
    "print(resp.__class__)\n",
    "print(json.dumps(resp.__dict__, indent=4))"
   ]
  },
  {
   "cell_type": "markdown",
   "id": "77266be3",
   "metadata": {},
   "source": [
    "### Tools"
   ]
  },
  {
   "cell_type": "code",
   "execution_count": null,
   "id": "ba8e3cd8",
   "metadata": {},
   "outputs": [],
   "source": [
    "@tool\n",
    "def add_number_tool(x: int, y: int) -> int:\n",
    "    \"\"\"Add two numbers\"\"\"\n",
    "    return x + y\n",
    "\n",
    "print(add_number_tool.__class__)\n",
    "\n",
    "res = add_number_tool.invoke({\"x\": 2, \"y\": 3})\n",
    "print(res.__class__)\n",
    "\n",
    "print(res)"
   ]
  },
  {
   "cell_type": "code",
   "execution_count": null,
   "id": "cc5fa821",
   "metadata": {},
   "outputs": [],
   "source": [
    "class IncreasePricesInput(BaseModel):\n",
    "    prices: list[float] = Field(description=\"List of prices to increase\")\n",
    "    increase_factor: float = Field(description=\"Factor by which to increase the prices\")\n",
    "\n",
    "@tool(args_schema=IncreasePricesInput)\n",
    "def increase_prices(prices: list[float], increase_factor: float) -> list[float]:\n",
    "    \"\"\"Increase a list of prices by multiplying them with an increase factor\"\"\"\n",
    "    return [round(price * increase_factor, 2) for price in prices]\n",
    "\n",
    "print(increase_prices.__class__)\n",
    "\n",
    "res = increase_prices.invoke({ \"prices\": [2.5,2.8,3.3], \"increase_factor\": 1.5})\n",
    "print(res.__class__)\n",
    "print(res)"
   ]
  },
  {
   "cell_type": "code",
   "execution_count": null,
   "id": "22a06758",
   "metadata": {},
   "outputs": [],
   "source": [
    "class MultiplyInput(BaseModel):\n",
    "    x: int = Field(description=\"Number\")\n",
    "    y: int = Field(description=\"Another number\")\n",
    "\n",
    "def multiply_number(x: int, y: int) -> int:\n",
    "    \"\"\"Multiply 2 numbers\"\"\"\n",
    "    return x * y\n",
    "\n",
    "multiply_number_tool = StructuredTool.from_function(\n",
    "    func=multiply_number,\n",
    "    name=\"Multiplication\",\n",
    "    description=\"Multiply 2 numbers\",\n",
    "    args_schema=MultiplyInput,\n",
    "    return_direct=True,\n",
    ")\n",
    "\n",
    "res = multiply_number_tool.invoke({\"x\": 2, \"y\": 3})\n",
    "print(res.__class__)\n",
    "print(res)"
   ]
  },
  {
   "cell_type": "markdown",
   "id": "9ce99693",
   "metadata": {},
   "source": [
    "### Tool Message"
   ]
  },
  {
   "cell_type": "code",
   "execution_count": null,
   "id": "68579ffd",
   "metadata": {},
   "outputs": [],
   "source": [
    "tools: list[BaseTool] = {\n",
    "    \"multiply_number_tool\" : multiply_number_tool,\n",
    "    \"increase_prices\" : increase_prices,\n",
    "    \"add_number_tool\" : add_number_tool\n",
    "}"
   ]
  },
  {
   "cell_type": "code",
   "execution_count": null,
   "id": "67a31919",
   "metadata": {},
   "outputs": [],
   "source": [
    "# An example of model responded with tool calls\n",
    "ai_msg = AIMessage(\n",
    "    content = \"\",\n",
    "    tool_calls = [\n",
    "            tool_call(\n",
    "                name=\"multiply_number_tool\", \n",
    "                args = {\"x\": 2, \"y\": 3}, \n",
    "                id = \"tool_call_id_1\"),\n",
    "        ]\n",
    ")"
   ]
  },
  {
   "cell_type": "code",
   "execution_count": null,
   "id": "f5a921f0",
   "metadata": {},
   "outputs": [],
   "source": [
    "# return responses for tool calls\n",
    "def run_tool(msg: AIMessage, tools: list[BaseTool]) -> list[ToolMessage]:\n",
    "    tool_messages: list[ToolMessage] = []\n",
    "    for tool in msg.tool_calls:\n",
    "        tool_name = tool[\"name\"]\n",
    "        if tool_name in tools:\n",
    "            res = tools[tool_name].invoke(tool[\"args\"])\n",
    "            tool_messages.append(ToolMessage(\n",
    "                content=res,\n",
    "                artifact={},\n",
    "                tool_call_id=tool[\"id\"],\n",
    "            ))\n",
    "\n",
    "    return tool_messages"
   ]
  },
  {
   "cell_type": "code",
   "execution_count": null,
   "id": "32fc897e",
   "metadata": {},
   "outputs": [],
   "source": [
    "messages = run_tool(ai_msg, tools)\n",
    "for msg in messages:\n",
    "    print(msg.content)"
   ]
  }
 ],
 "metadata": {
  "kernelspec": {
   "display_name": "py31209",
   "language": "python",
   "name": "python3"
  },
  "language_info": {
   "codemirror_mode": {
    "name": "ipython",
    "version": 3
   },
   "file_extension": ".py",
   "mimetype": "text/x-python",
   "name": "python",
   "nbconvert_exporter": "python",
   "pygments_lexer": "ipython3",
   "version": "3.13.2"
  }
 },
 "nbformat": 4,
 "nbformat_minor": 5
}
