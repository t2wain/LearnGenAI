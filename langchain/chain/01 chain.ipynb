{
 "cells": [
  {
   "cell_type": "code",
   "execution_count": null,
   "metadata": {},
   "outputs": [],
   "source": [
    "from langchain_core.runnables import (\n",
    "    Runnable,\n",
    "    RunnableLambda, \n",
    "    RunnablePassthrough, \n",
    "    RunnableParallel,\n",
    "    RunnableConfig\n",
    ")\n",
    "from operator import itemgetter\n",
    "from typing import Optional"
   ]
  },
  {
   "cell_type": "markdown",
   "metadata": {},
   "source": [
    "### RunnableSquence"
   ]
  },
  {
   "cell_type": "code",
   "execution_count": null,
   "metadata": {},
   "outputs": [],
   "source": [
    "def increment_x_by_one(x: int) -> int:\n",
    "    return x+1\n",
    "\n",
    "def fake_llm(x: int)->str:\n",
    "    return f\"Result = {x}\"\n"
   ]
  },
  {
   "cell_type": "code",
   "execution_count": null,
   "metadata": {},
   "outputs": [],
   "source": [
    "class MyFirstChain(Runnable[int, str]):\n",
    "    def invoke(\n",
    "        self, input:str, config: Optional[RunnableConfig] = None\n",
    "    ) -> str:\n",
    "        increment=increment_x_by_one(input)\n",
    "        return fake_llm(increment)"
   ]
  },
  {
   "cell_type": "code",
   "execution_count": null,
   "metadata": {},
   "outputs": [],
   "source": [
    "runnable = MyFirstChain()\n",
    "runnable.invoke(1)"
   ]
  },
  {
   "cell_type": "code",
   "execution_count": null,
   "metadata": {},
   "outputs": [],
   "source": [
    "chain1 = (\n",
    "    increment_x_by_one \n",
    "    | RunnableLambda(fake_llm)\n",
    ")\n"
   ]
  },
  {
   "cell_type": "code",
   "execution_count": null,
   "metadata": {},
   "outputs": [],
   "source": [
    "for i in dir(chain1):\n",
    "    print(i)"
   ]
  },
  {
   "cell_type": "code",
   "execution_count": null,
   "metadata": {},
   "outputs": [],
   "source": [
    "print(chain1.__class__)\n",
    "print(vars(chain1))"
   ]
  },
  {
   "cell_type": "code",
   "execution_count": null,
   "metadata": {},
   "outputs": [],
   "source": [
    "print(chain1.InputType().__class__)\n",
    "print(chain1.OutputType().__class__)"
   ]
  },
  {
   "cell_type": "code",
   "execution_count": null,
   "metadata": {},
   "outputs": [],
   "source": [
    "result = chain1.invoke(1)\n",
    "print(result)"
   ]
  },
  {
   "cell_type": "code",
   "execution_count": null,
   "metadata": {},
   "outputs": [],
   "source": [
    "chain1 = (\n",
    "    RunnableLambda(increment_x_by_one) \n",
    "    | fake_llm\n",
    ")\n",
    "result = chain1.invoke(1)\n",
    "print(result)"
   ]
  },
  {
   "cell_type": "code",
   "execution_count": null,
   "metadata": {},
   "outputs": [],
   "source": [
    "result = await chain1.ainvoke(1)\n",
    "print(result)"
   ]
  },
  {
   "cell_type": "code",
   "execution_count": null,
   "metadata": {},
   "outputs": [],
   "source": [
    "result = chain1.batch([1, 2, 3])\n",
    "print(result)"
   ]
  },
  {
   "cell_type": "code",
   "execution_count": null,
   "metadata": {},
   "outputs": [],
   "source": [
    "result = await chain1.abatch([1, 2, 3])\n",
    "print(result)"
   ]
  },
  {
   "cell_type": "markdown",
   "metadata": {},
   "source": [
    "### ParallelSequence"
   ]
  },
  {
   "cell_type": "code",
   "execution_count": null,
   "metadata": {},
   "outputs": [],
   "source": [
    "def add_one(x: int) -> int:\n",
    "    return x + 1\n",
    "\n",
    "def mul_two(x: int) -> int:\n",
    "    return x * 2\n",
    "\n",
    "def mul_three(x: int) -> int:\n",
    "    return x * 3\n",
    "\n",
    "chain2 = RunnableLambda(add_one) | {  # this dict is coerced to a RunnableParallel\n",
    "    \"mul_two\": mul_two,\n",
    "    \"mul_three\": mul_three,\n",
    "}"
   ]
  },
  {
   "cell_type": "code",
   "execution_count": null,
   "metadata": {},
   "outputs": [],
   "source": [
    "print(chain2.InputType().__class__)\n",
    "print(chain2.OutputType().__class__)\n",
    "print(chain2.get_input_jsonschema())\n",
    "print(chain2.get_output_jsonschema())"
   ]
  },
  {
   "cell_type": "code",
   "execution_count": null,
   "metadata": {},
   "outputs": [],
   "source": [
    "result = chain2.invoke(1)\n",
    "print(result.__class__)\n",
    "print(result)"
   ]
  },
  {
   "cell_type": "markdown",
   "metadata": {},
   "source": [
    "### RunnablePassThrough and itemgetter"
   ]
  },
  {
   "cell_type": "code",
   "execution_count": null,
   "metadata": {},
   "outputs": [],
   "source": [
    "chain1 = (\n",
    "    itemgetter(\"x\") \n",
    "    | RunnableLambda(increment_x_by_one) \n",
    "    | fake_llm\n",
    ")\n",
    "result = chain1.invoke({\"x\": 1})\n",
    "print(result)"
   ]
  },
  {
   "cell_type": "code",
   "execution_count": null,
   "metadata": {},
   "outputs": [],
   "source": [
    "chain2 = RunnableParallel(\n",
    "    origin=RunnablePassthrough(),\n",
    "    output=increment_x_by_one\n",
    ")\n",
    "\n",
    "chain2.invoke(1)"
   ]
  },
  {
   "cell_type": "markdown",
   "metadata": {},
   "source": [
    "### RunnableAssign"
   ]
  },
  {
   "cell_type": "code",
   "execution_count": null,
   "metadata": {},
   "outputs": [],
   "source": [
    "chain3 = RunnablePassthrough().assign(\n",
    "    y=itemgetter(\"x\") | RunnableLambda(increment_x_by_one)\n",
    ")\n",
    "\n",
    "chain3.invoke({\"x\": 1})"
   ]
  },
  {
   "cell_type": "code",
   "execution_count": 24,
   "metadata": {},
   "outputs": [
    {
     "data": {
      "text/plain": [
       "{'x': 1, 'y': 2, 'z': 3}"
      ]
     },
     "execution_count": 24,
     "metadata": {},
     "output_type": "execute_result"
    }
   ],
   "source": [
    "chain4 = RunnablePassthrough().assign(\n",
    "    y = lambda d: d.get(\"x\", 0) + 1, \n",
    "    z = lambda d: d.get(\"x\", 0) + 2\n",
    ")\n",
    "\n",
    "chain4.invoke({\"x\": 1})"
   ]
  },
  {
   "cell_type": "code",
   "execution_count": 25,
   "metadata": {},
   "outputs": [
    {
     "data": {
      "text/plain": [
       "{'x': 1, 'k': {'y': 2, 'z': 3}}"
      ]
     },
     "execution_count": 25,
     "metadata": {},
     "output_type": "execute_result"
    }
   ],
   "source": [
    "\n",
    "chain5 = RunnablePassthrough().assign(\n",
    "    k={\n",
    "        \"y\": lambda d: d.get(\"x\", 0) + 1, \n",
    "        \"z\": lambda d: d.get(\"x\", 0) + 2\n",
    "    }\n",
    ")\n",
    "\n",
    "chain5.invoke({\"x\": 1})"
   ]
  }
 ],
 "metadata": {
  "kernelspec": {
   "display_name": "py31209",
   "language": "python",
   "name": "python3"
  },
  "language_info": {
   "codemirror_mode": {
    "name": "ipython",
    "version": 3
   },
   "file_extension": ".py",
   "mimetype": "text/x-python",
   "name": "python",
   "nbconvert_exporter": "python",
   "pygments_lexer": "ipython3",
   "version": "3.13.2"
  }
 },
 "nbformat": 4,
 "nbformat_minor": 2
}
